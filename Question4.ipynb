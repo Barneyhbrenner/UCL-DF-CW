{
 "cells": [
  {
   "cell_type": "markdown",
   "id": "ef116acd-5fd1-4369-bf58-bb6920f1dd4a",
   "metadata": {},
   "source": [
    "# Question 4\n",
    "Suppose that you want to build a portfolio with the stocks (with tickers of) AAPL, GOOG,\n",
    "AMZN and FB. You plan to retrieve the relevant yahoo finance data with the ‘yfinance’\n",
    "python module from 1st of Jan. 2017 to 31st of Dec. 2020 (inclusive)"
   ]
  },
  {
   "cell_type": "code",
   "execution_count": 33,
   "id": "f92a299d-e743-4465-aab3-5e1888c3e187",
   "metadata": {},
   "outputs": [],
   "source": [
    "import pandas as pd\n",
    "import numpy as np\n",
    "import yfinance as yf\n",
    "import matplotlib.pyplot as plt\n",
    "from pypfopt import risk_models\n",
    "from pypfopt import expected_returns\n",
    "from pypfopt.efficient_frontier import EfficientFrontier\n",
    "from pypfopt import plotting"
   ]
  },
  {
   "cell_type": "markdown",
   "id": "b3a846be-a399-488c-939a-37ebd96943f6",
   "metadata": {},
   "source": [
    "## Part A\n",
    "Suppose that you want to build a portfolio with the stocks (with tickers of) AAPL, GOOG,\n",
    "AMZN and FB. You plan to retrieve the relevant yahoo finance data with the ‘yfinance’\n",
    "python module from 1st of Jan. 2017 to 31st of Dec. 2020 (inclusive)"
   ]
  },
  {
   "cell_type": "code",
   "execution_count": 5,
   "id": "60a82e81-c7fa-4adf-b7f9-f5c96d220f60",
   "metadata": {},
   "outputs": [
    {
     "name": "stdout",
     "output_type": "stream",
     "text": [
      "[*********************100%***********************]  4 of 4 completed\n"
     ]
    },
    {
     "data": {
      "text/html": [
       "<div>\n",
       "<style scoped>\n",
       "    .dataframe tbody tr th:only-of-type {\n",
       "        vertical-align: middle;\n",
       "    }\n",
       "\n",
       "    .dataframe tbody tr th {\n",
       "        vertical-align: top;\n",
       "    }\n",
       "\n",
       "    .dataframe thead th {\n",
       "        text-align: right;\n",
       "    }\n",
       "</style>\n",
       "<table border=\"1\" class=\"dataframe\">\n",
       "  <thead>\n",
       "    <tr style=\"text-align: right;\">\n",
       "      <th></th>\n",
       "      <th>AAPL</th>\n",
       "      <th>AMZN</th>\n",
       "      <th>FB</th>\n",
       "      <th>GOOGL</th>\n",
       "    </tr>\n",
       "    <tr>\n",
       "      <th>Date</th>\n",
       "      <th></th>\n",
       "      <th></th>\n",
       "      <th></th>\n",
       "      <th></th>\n",
       "    </tr>\n",
       "  </thead>\n",
       "  <tbody>\n",
       "    <tr>\n",
       "      <th>2017-01-04</th>\n",
       "      <td>-0.001119</td>\n",
       "      <td>0.004657</td>\n",
       "      <td>0.015660</td>\n",
       "      <td>-0.000297</td>\n",
       "    </tr>\n",
       "    <tr>\n",
       "      <th>2017-01-05</th>\n",
       "      <td>0.005085</td>\n",
       "      <td>0.030732</td>\n",
       "      <td>0.016682</td>\n",
       "      <td>0.006499</td>\n",
       "    </tr>\n",
       "    <tr>\n",
       "      <th>2017-01-06</th>\n",
       "      <td>0.011148</td>\n",
       "      <td>0.019912</td>\n",
       "      <td>0.022707</td>\n",
       "      <td>0.014993</td>\n",
       "    </tr>\n",
       "    <tr>\n",
       "      <th>2017-01-09</th>\n",
       "      <td>0.009159</td>\n",
       "      <td>0.001168</td>\n",
       "      <td>0.012074</td>\n",
       "      <td>0.002387</td>\n",
       "    </tr>\n",
       "    <tr>\n",
       "      <th>2017-01-10</th>\n",
       "      <td>0.001009</td>\n",
       "      <td>-0.001280</td>\n",
       "      <td>-0.004404</td>\n",
       "      <td>-0.001414</td>\n",
       "    </tr>\n",
       "  </tbody>\n",
       "</table>\n",
       "</div>"
      ],
      "text/plain": [
       "                AAPL      AMZN        FB     GOOGL\n",
       "Date                                              \n",
       "2017-01-04 -0.001119  0.004657  0.015660 -0.000297\n",
       "2017-01-05  0.005085  0.030732  0.016682  0.006499\n",
       "2017-01-06  0.011148  0.019912  0.022707  0.014993\n",
       "2017-01-09  0.009159  0.001168  0.012074  0.002387\n",
       "2017-01-10  0.001009 -0.001280 -0.004404 -0.001414"
      ]
     },
     "execution_count": 5,
     "metadata": {},
     "output_type": "execute_result"
    }
   ],
   "source": [
    "tickers_port = ['AAPL', 'AMZN', 'GOOGL', 'FB']\n",
    "\n",
    "stock_data_port = yf.download(tickers_port, start=\"2017-01-01\", end=\"2020-12-31\")\n",
    "stock_data_port = stock_data_port.sort_values(by='Date')\n",
    "stock_prices_port = stock_data_port['Adj Close']\n",
    "stock_returns_port = stock_prices_port.pct_change()[1:]\n",
    "\n",
    "stock_returns_port.head()"
   ]
  },
  {
   "cell_type": "markdown",
   "id": "d6c617b6-750a-40e7-8745-1d7b107949b6",
   "metadata": {},
   "source": [
    "## Part B\n",
    "Based on a), find the covariance matrix of these stocks. [1 mark]"
   ]
  },
  {
   "cell_type": "code",
   "execution_count": 7,
   "id": "23800608-2192-4acf-afcb-408f5f330fcf",
   "metadata": {},
   "outputs": [
    {
     "data": {
      "text/html": [
       "<div>\n",
       "<style scoped>\n",
       "    .dataframe tbody tr th:only-of-type {\n",
       "        vertical-align: middle;\n",
       "    }\n",
       "\n",
       "    .dataframe tbody tr th {\n",
       "        vertical-align: top;\n",
       "    }\n",
       "\n",
       "    .dataframe thead th {\n",
       "        text-align: right;\n",
       "    }\n",
       "</style>\n",
       "<table border=\"1\" class=\"dataframe\">\n",
       "  <thead>\n",
       "    <tr style=\"text-align: right;\">\n",
       "      <th></th>\n",
       "      <th>AAPL</th>\n",
       "      <th>AMZN</th>\n",
       "      <th>FB</th>\n",
       "      <th>GOOGL</th>\n",
       "    </tr>\n",
       "  </thead>\n",
       "  <tbody>\n",
       "    <tr>\n",
       "      <th>AAPL</th>\n",
       "      <td>0.000398</td>\n",
       "      <td>0.000246</td>\n",
       "      <td>0.000263</td>\n",
       "      <td>0.000236</td>\n",
       "    </tr>\n",
       "    <tr>\n",
       "      <th>AMZN</th>\n",
       "      <td>0.000246</td>\n",
       "      <td>0.000372</td>\n",
       "      <td>0.000261</td>\n",
       "      <td>0.000228</td>\n",
       "    </tr>\n",
       "    <tr>\n",
       "      <th>FB</th>\n",
       "      <td>0.000263</td>\n",
       "      <td>0.000261</td>\n",
       "      <td>0.000460</td>\n",
       "      <td>0.000263</td>\n",
       "    </tr>\n",
       "    <tr>\n",
       "      <th>GOOGL</th>\n",
       "      <td>0.000236</td>\n",
       "      <td>0.000228</td>\n",
       "      <td>0.000263</td>\n",
       "      <td>0.000305</td>\n",
       "    </tr>\n",
       "  </tbody>\n",
       "</table>\n",
       "</div>"
      ],
      "text/plain": [
       "           AAPL      AMZN        FB     GOOGL\n",
       "AAPL   0.000398  0.000246  0.000263  0.000236\n",
       "AMZN   0.000246  0.000372  0.000261  0.000228\n",
       "FB     0.000263  0.000261  0.000460  0.000263\n",
       "GOOGL  0.000236  0.000228  0.000263  0.000305"
      ]
     },
     "execution_count": 7,
     "metadata": {},
     "output_type": "execute_result"
    }
   ],
   "source": [
    "stock_returns_cov = stock_returns_port.cov()\n",
    "stock_returns_cov"
   ]
  },
  {
   "cell_type": "markdown",
   "id": "4cb43d2f-bd28-4e1b-b4ad-e568d77c177c",
   "metadata": {},
   "source": [
    "## Part C\n",
    "Suppose that the four stocks are equally weighted, find the annualised portfolio\n",
    "expected returns and portfolio variance. [2 marks]"
   ]
  },
  {
   "cell_type": "code",
   "execution_count": 13,
   "id": "37f2dedc-7bff-4095-bee5-0c82458429b5",
   "metadata": {},
   "outputs": [
    {
     "name": "stdout",
     "output_type": "stream",
     "text": [
      "Annualised Portfolio Return: 0.4060069289922592\n"
     ]
    }
   ],
   "source": [
    "portfolio_weights = np.array([0.25, 0.25, 0.25, 0.25])\n",
    "weighted_returns = stock_returns_port.mul(portfolio_weights, axis=1)\n",
    "portfolio_returns = weighted_returns.sum(axis=1)\n",
    "# ((1 + mean_return_daily) ** 252) - 1\n",
    "annualised_portfolio_return = ((1 + np.mean(portfolio_returns)) ** 252) - 1\n",
    "print(f\"Annualised Portfolio Return: {annualised_portfolio_return}\")"
   ]
  },
  {
   "cell_type": "code",
   "execution_count": 15,
   "id": "41ff3e8e-e969-4299-80f3-34e8305cb58c",
   "metadata": {},
   "outputs": [
    {
     "name": "stdout",
     "output_type": "stream",
     "text": [
      "Annualised Portfolio Variance: 0.07134943648088476\n"
     ]
    }
   ],
   "source": [
    "annualised_cov = (stock_returns_cov) * 252\n",
    "port_variance = np.dot(portfolio_weights.T, np.dot(annualised_cov, portfolio_weights))\n",
    "print(f\"Annualised Portfolio Variance: {port_variance}\")"
   ]
  },
  {
   "cell_type": "markdown",
   "id": "8ab9cbaa-56cb-46c1-8885-cec07cb86c56",
   "metadata": {},
   "source": [
    "# Part D\n",
    "Find the efficient portfolio with the maximum Sharpe ratio. What is the\n",
    "corresponding Sharpe ratio? [2 marks]"
   ]
  },
  {
   "cell_type": "code",
   "execution_count": 26,
   "id": "7dd41159-cade-4b7a-9e84-e4175e05ebae",
   "metadata": {},
   "outputs": [
    {
     "name": "stdout",
     "output_type": "stream",
     "text": [
      "AAPL     0.486705\n",
      "AMZN     0.446585\n",
      "FB       0.235798\n",
      "GOOGL    0.211426\n",
      "dtype: float64 \n",
      "\n",
      "           AAPL      AMZN        FB     GOOGL\n",
      "AAPL   0.100298  0.062093  0.066360  0.059353\n",
      "AMZN   0.062093  0.093820  0.065851  0.057547\n",
      "FB     0.066360  0.065851  0.115842  0.066238\n",
      "GOOGL  0.059353  0.057547  0.066238  0.076746\n"
     ]
    }
   ],
   "source": [
    "mu = expected_returns.mean_historical_return(stock_prices_port)\n",
    "print(mu, '\\n')\n",
    "sigma = risk_models.sample_cov(stock_prices_port)\n",
    "print(sigma)"
   ]
  },
  {
   "cell_type": "code",
   "execution_count": 42,
   "id": "106bfa7f-cf03-4d6c-a391-edc04af58b6e",
   "metadata": {},
   "outputs": [
    {
     "data": {
      "text/plain": [
       "OrderedDict([('AAPL', 0.55613),\n",
       "             ('AMZN', 0.44387),\n",
       "             ('FB', 0.0),\n",
       "             ('GOOGL', 0.0)])"
      ]
     },
     "execution_count": 42,
     "metadata": {},
     "output_type": "execute_result"
    }
   ],
   "source": [
    "ef = EfficientFrontier(mu, sigma)\n",
    "raw_weights_maxsharpe = ef.max_sharpe()\n",
    "cleaned_weights_maxsharpe = ef.clean_weights()\n",
    "cleaned_weights_maxsharpe"
   ]
  },
  {
   "cell_type": "code",
   "execution_count": 43,
   "id": "d65b2619-005f-4112-894f-fc6a9871d585",
   "metadata": {},
   "outputs": [
    {
     "name": "stdout",
     "output_type": "stream",
     "text": [
      "Expected annual return: 46.9%\n",
      "Annual volatility: 28.3%\n",
      "Sharpe Ratio: 1.59\n"
     ]
    },
    {
     "data": {
      "text/plain": [
       "(0.4688964543572316, 0.28312518333337183, 1.585505213885085)"
      ]
     },
     "execution_count": 43,
     "metadata": {},
     "output_type": "execute_result"
    }
   ],
   "source": [
    "ef.portfolio_performance(verbose=True)"
   ]
  },
  {
   "cell_type": "markdown",
   "id": "a6ccc704-bbbe-4d69-9348-34c9cb5525a6",
   "metadata": {},
   "source": [
    "## Part E\n",
    "Plot the efficient frontier. [3 mark]"
   ]
  },
  {
   "cell_type": "code",
   "execution_count": 46,
   "id": "251aca19-0c25-4abc-b1e6-f8f06f2aa4db",
   "metadata": {},
   "outputs": [
    {
     "data": {
      "image/png": "[encoded data removed]",
      "text/plain": [
       "<Figure size 432x288 with 1 Axes>"
      ]
     },
     "metadata": {
      "needs_background": "light"
     },
     "output_type": "display_data"
    }
   ],
   "source": [
    "ef = EfficientFrontier(mu, sigma)\n",
    "fig, ax = plt.subplots()\n",
    "plotting.plot_efficient_frontier(ef, ax=ax, show_assets=True)\n",
    "plt.show()"
   ]
  },
  {
   "cell_type": "code",
   "execution_count": null,
   "id": "f7e57a58-16b8-4973-b993-389a919cbf57",
   "metadata": {},
   "outputs": [],
   "source": []
  }
 ],
 "metadata": {
  "kernelspec": {
   "display_name": "Python 3",
   "language": "python",
   "name": "python3"
  },
  "language_info": {
   "codemirror_mode": {
    "name": "ipython",
    "version": 3
   },
   "file_extension": ".py",
   "mimetype": "text/x-python",
   "name": "python",
   "nbconvert_exporter": "python",
   "pygments_lexer": "ipython3",
   "version": "3.7.1"
  }
 },
 "nbformat": 4,
 "nbformat_minor": 5
}

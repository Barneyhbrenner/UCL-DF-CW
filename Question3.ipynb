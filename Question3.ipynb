{
 "cells": [
  {
   "cell_type": "code",
   "execution_count": 2,
   "metadata": {},
   "outputs": [],
   "source": [
    "import numpy as np\n",
    "import numpy_financial as npf"
   ]
  },
  {
   "cell_type": "markdown",
   "metadata": {},
   "source": [
    "# Question 3 [19 marks]\n",
    "\n",
    "Consider a stock that is trading at $100 today. The stock does not generate income /\n",
    "pay dividends. The stock is traded in a well-functioning market with no transaction\n",
    "costs and no restrictions on short sales. Both borrowing and lending can be done in\n",
    "unlimited amounts at the 2% risk-free rate. \n"
   ]
  },
  {
   "cell_type": "markdown",
   "metadata": {},
   "source": [
    "### a) What is the difference between forward contracts and futures contracts [answers should be no longer than 200 words] [4 marks]\n",
    "\n"
   ]
  },
  {
   "cell_type": "markdown",
   "metadata": {},
   "source": [
    "Both forward and futures contracts are an agreement between two parties to buy or sell an asset at a certain price on a futures date. The difference is that forward contracts are customizable and can be negotiated between buyer and seller and are traded over the counter where there is no secondary market to regulate, whereas futures contracts are standardized contracts in which certain features are fixed and regulated by the clearing house of the exchange in which they are traded.\n",
    "Forward contracts are settled at the maturity date meaning they can be risky, whereas futures contracts are settled on a daily basis meaning that they carry low risk since prices cannot change drastically. Due to the exhange, both parties of a futures contract must pay an upfront cost whereas no such collateral is required from a forward contract\n"
   ]
  },
  {
   "cell_type": "markdown",
   "metadata": {},
   "source": [
    "### b) Consider a futures contract on the stock with a maturity of one year. Suppose that the futures price is currently at $110. Are the futures fairly priced? Describe an arbitrage strategy that would allow you to make a riskless profit. [2 marks]"
   ]
  },
  {
   "cell_type": "markdown",
   "metadata": {},
   "source": [
    "A futures contract is priced fairly if the vos or return is equal to the (give defintion\n",
    "fince our risk free ratr is 2% the return on lending \\\\$100 yields \\\\$2 but the cost of, therefore is not fair.\n",
    "The strategy combines the borrowing \n",
    "short the futrues contract in a years time. At maturity we recieve the \\\\$110 from the sale and pay the \\\\$102 that we owe from borrowing, therefore achieving an \\\\$8 profit"
   ]
  },
  {
   "cell_type": "markdown",
   "metadata": {},
   "source": [
    "### c) Same as question b) but suppose that the futures price is currently at $95. Describe your arbitrage strategy. [2 marks]"
   ]
  },
  {
   "cell_type": "markdown",
   "metadata": {},
   "source": [
    "The opposite of part b. Here we make a profit of $5. \n",
    "Short the stockk for $100\n"
   ]
  },
  {
   "cell_type": "markdown",
   "metadata": {},
   "source": [
    "## Suppose that you hold a long position on a European call option that has an underlying asset price of \\\\$ 57.03, strike price \\\\$55, risk-free rate 0.22%, volatility 32% and time to expiration 0.25. The underlying asset does not have any investment yield."
   ]
  },
  {
   "cell_type": "markdown",
   "metadata": {},
   "source": [
    "### d) Value this call option [1 mark]\n",
    "\n",
    "We use the formula $C = S_0. N(d_1) - K e^{-rt}.N(d_2)$\n",
    "\n",
    "$d_1 = \\frac{\\log(\\frac{S_0}{K})+(r+\\frac{\\sigma^2}{2})^T}{\\sigma \\sqrt{T}}$\n",
    "\n",
    "$d_2 = d_1 - \\sigma \\sqrt{T} $\n",
    "\n",
    "where $N(x)$ is the cumulative probability distribution for a variable $\\phi(0, 1)$\n",
    "\n",
    "$S_0$ is the initial strike price\n",
    "\n",
    "$K$ is the the option strike price\n",
    "\n",
    "$r$ is the risk-free rate \n",
    "\n",
    "$\\sigma$ is the stock price volatility \n",
    "\n",
    "$T$ is the time to maturity"
   ]
  },
  {
   "cell_type": "code",
   "execution_count": 17,
   "metadata": {},
   "outputs": [],
   "source": [
    "from math import exp, log, pi\n",
    "\n",
    "def norm_pdf(x):\n",
    "    \"\"\"\n",
    "    Standard normal probability density function\n",
    "    \"\"\"\n",
    "    return (1.0/((2*pi)**0.5))*exp(-0.5*x*x)\n",
    "\n",
    "def norm_cdf(x):\n",
    "    \"\"\"\n",
    "    An approximation to the cumulative distribution\n",
    "    function for the standard normal distribution:\n",
    "    N(x) = \\frac{1}{sqrt(2*\\pi)} \\int^x_{-\\infty} e^{-\\frac{1}{2}s^2} ds\n",
    "    \"\"\"\n",
    "    k = 1.0/(1.0+0.2316419*x)\n",
    "    k_sum = k * (0.319381530 + k * (-0.356563782 + \\\n",
    "        k * (1.781477937 + k * (-1.821255978 + 1.330274429 * k))))\n",
    "\n",
    "    if x >= 0.0:\n",
    "        return (1.0 - (1.0 / ((2 * pi)**0.5)) * exp(-0.5 * x * x) * k_sum)\n",
    "    else:\n",
    "        return 1.0 - norm_cdf(-x)"
   ]
  },
  {
   "cell_type": "code",
   "execution_count": 23,
   "metadata": {},
   "outputs": [
    {
     "data": {
      "text/plain": [
       "4.69504454568083"
      ]
     },
     "execution_count": 23,
     "metadata": {},
     "output_type": "execute_result"
    }
   ],
   "source": [
    "S = 57.03\n",
    "K = 55\n",
    "r = 0.0022\n",
    "sigma = 0.32\n",
    "T = 0.25\n",
    "\n",
    "d1 = np.log(S/K) + (r+np.power(sigma,2)/2)\n",
    "d1 /= (sigma*np.power(T,0.5))\n",
    "\n",
    "d2 = d1 - (sigma*np.power(T,0.5))\n",
    "\n",
    "# these values were found by looking at the look up table of the normal cdf\n",
    "N_d1 = 0.62171 \n",
    "N_d2 = 0.5596\n",
    "\n",
    "# call = S*norm_cdf(d1) - K*np.exp(-r*T)*norm_cdf(d2)\n",
    "\n",
    "call = S*N_d1 - K*np.exp(-r*T)*N_d2\n",
    "\n",
    "call"
   ]
  },
  {
   "cell_type": "markdown",
   "metadata": {},
   "source": [
    "### e) Based on the BSM model, describe a portfolio that replicates the call option’s payoff [1 mark]\n",
    "\n",
    "To replicae the portfolio we would need to; buy $N(d_1)$ = 0.62171% shares of the stock and borrow $K.e^{-rt}.N(d_2) = \\$30.76 $"
   ]
  },
  {
   "cell_type": "code",
   "execution_count": 24,
   "metadata": {},
   "outputs": [
    {
     "data": {
      "text/plain": [
       "30.76107675431917"
      ]
     },
     "execution_count": 24,
     "metadata": {},
     "output_type": "execute_result"
    }
   ],
   "source": [
    "K*np.exp(-r*T)*N_d2"
   ]
  },
  {
   "cell_type": "markdown",
   "metadata": {},
   "source": [
    "### f) Define a function to price the option with the binomial tree method. The function should take the number of steps (n) as one of the inputs. You should NOT use list comprehension in the function. [3 marks]"
   ]
  },
  {
   "cell_type": "code",
   "execution_count": 1,
   "metadata": {},
   "outputs": [
    {
     "ename": "SyntaxError",
     "evalue": "invalid syntax (<ipython-input-1-d78ebc667e88>, line 4)",
     "output_type": "error",
     "traceback": [
      "\u001b[1;36m  File \u001b[1;32m\"<ipython-input-1-d78ebc667e88>\"\u001b[1;36m, line \u001b[1;32m4\u001b[0m\n\u001b[1;33m    up = np.exp(vol * (dt  0.5))\u001b[0m\n\u001b[1;37m                           ^\u001b[0m\n\u001b[1;31mSyntaxError\u001b[0m\u001b[1;31m:\u001b[0m invalid syntax\n"
     ]
    }
   ],
   "source": [
    "def binomialtree(steps, rfr, tte, vol, S0, strike):\n",
    "\n",
    "    dt = tte / steps\n",
    "    up = np.exp(vol * (dt,  0.5))\n",
    "    down = np.exp(-vol * (dt  0.5))\n",
    "    p = (np.exp(rfr * tte) - down) / (up - down)\n",
    "    terminals = [S0 * (up ** steps) for  in range(steps + 1)]\n",
    "    terminals = np.array([s * (down / up) ** (i) for (i, s) in enumerate(terminals)])\n",
    "    option_prices = [(t - strike) if (t - strike) >= 0 else 0 for t in terminals]\n",
    "    print(terminals)\n",
    "    for i in range(steps):\n",
    "        ops = []\n",
    "        for j in range(steps - i):\n",
    "            f1, f2 = option_prices[j], option_prices[j+1]\n",
    "            ops.append(np.exp(-rfr * dt) * (pf1 + (1 - p)f2))\n",
    "        option_prices = ops\n",
    "\n",
    "    return option_prices[0]\n",
    "\n",
    "print(binomial_tree(10, 0.0022, 0.25, 0.32, 57.03, 55))"
   ]
  },
  {
   "cell_type": "markdown",
   "metadata": {},
   "source": [
    "### g) By setting n = 10, 50 and 100, compare and comment on the results under the two methods. [2 marks]"
   ]
  },
  {
   "cell_type": "markdown",
   "metadata": {},
   "source": [
    "for steps n =10,50,100 we obtain the following prices of the call option:\n",
    "\n",
    "n = 10, we get price $4.760\n",
    "\n",
    "n = 50, we get price $4.694\n",
    "\n",
    "n = 100, we get price $4.689"
   ]
  },
  {
   "cell_type": "markdown",
   "metadata": {},
   "source": [
    "## When buying two calls with the exercises price of x1 and x3 and selling two calls with the exercise price of x2, where x2=(x1+x3)/2, with the same maturity for the same stock, we call it a butterfly. Consider the following call options on the same stock in Exhibit 1."
   ]
  },
  {
   "cell_type": "markdown",
   "metadata": {},
   "source": [
    "### h) Create a graphical representation of the butterfly strategy’s payoff. [2 marks]"
   ]
  },
  {
   "cell_type": "code",
   "execution_count": null,
   "metadata": {},
   "outputs": [],
   "source": []
  },
  {
   "cell_type": "markdown",
   "metadata": {},
   "source": [
    "### i) Why might an investor enter into such a strategy? [2 marks]"
   ]
  },
  {
   "cell_type": "markdown",
   "metadata": {},
   "source": [
    "if an invstor believes tha t aprice of a stock iwll not vcahgen yb the time of expriey then a butterfly spread strategy allows them to minimize their risk or max loss) while holding a high chance of profit under a neutral market.\n",
    "if the cALUEO of the sstock is equal to the strike price of the short calls "
   ]
  }
 ],
 "metadata": {
  "kernelspec": {
   "display_name": "Python 3",
   "language": "python",
   "name": "python3"
  },
  "language_info": {
   "codemirror_mode": {
    "name": "ipython",
    "version": 3
   },
   "file_extension": ".py",
   "mimetype": "text/x-python",
   "name": "python",
   "nbconvert_exporter": "python",
   "pygments_lexer": "ipython3",
   "version": "3.8.5"
  }
 },
 "nbformat": 4,
 "nbformat_minor": 4
}

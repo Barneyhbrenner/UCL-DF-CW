{
 "cells": [
  {
   "cell_type": "code",
   "execution_count": 1,
   "metadata": {},
   "outputs": [],
   "source": [
    "import numpy as np\n",
    "import numpy_financial as npf"
   ]
  },
  {
   "cell_type": "markdown",
   "metadata": {},
   "source": [
    "# Question 3 [19 marks]\n",
    "\n",
    "Consider a stock that is trading at $100 today. The stock does not generate income /\n",
    "pay dividends. The stock is traded in a well-functioning market with no transaction\n",
    "costs and no restrictions on short sales. Both borrowing and lending can be done in\n",
    "unlimited amounts at the 2% risk-free rate. \n"
   ]
  },
  {
   "cell_type": "markdown",
   "metadata": {},
   "source": [
    "### a) What is the difference between forward contracts and futures contracts [answers should be no longer than 200 words] [4 marks]\n",
    "\n"
   ]
  },
  {
   "cell_type": "markdown",
   "metadata": {},
   "source": [
    "Both forward and futures contracts are an agreement between two parties to buy or sell an asset at a certain price on a futures date. The difference is that forward contracts are customizable and can be negotiated between buyer and seller and are traded over the counter where there is no secondary market to regulate, whereas futures contracts are standardized contracts in which certain features are fixed and regulated by the clearing house of the exchange in which they are traded.\n",
    "Forward contracts are settled at the maturity date meaning they can be risky, whereas futures contracts are settled on a daily basis meaning that they carry low risk since prices cannot change drastically. Due to the exhange, both parties of a futures contract must pay an upfront cost whereas no such collateral is required from a forward contract\n"
   ]
  },
  {
   "cell_type": "markdown",
   "metadata": {},
   "source": [
    "### b) Consider a futures contract on the stock with a maturity of one year. Suppose that the futures price is currently at $110. Are the futures fairly priced? Describe an arbitrage strategy that would allow you to make a riskless profit. [2 marks]"
   ]
  },
  {
   "cell_type": "markdown",
   "metadata": {},
   "source": []
  },
  {
   "cell_type": "markdown",
   "metadata": {},
   "source": [
    "### c) Same as question b) but suppose that the futures price is currently at $95. Describe your arbitrage strategy. [2 marks]"
   ]
  },
  {
   "cell_type": "code",
   "execution_count": null,
   "metadata": {},
   "outputs": [],
   "source": []
  },
  {
   "cell_type": "markdown",
   "metadata": {},
   "source": [
    "Suppose that you hold a long position on a European call option that has an underlying asset price of \\\\$ 57.03, strike price \\\\$55, risk-free rate 0.22%, volatility 32% and time to expiration 0.25. The underlying asset does not have any investment yield."
   ]
  },
  {
   "cell_type": "markdown",
   "metadata": {},
   "source": [
    "### d) Value this call option [1 mark]\n",
    "\n",
    "We use the formula $C = S_t. N(d_1) - K e^{-rt}.N(d_2)$"
   ]
  },
  {
   "cell_type": "code",
   "execution_count": 3,
   "metadata": {},
   "outputs": [],
   "source": [
    "S = 57.03\n",
    "K = 55\n",
    "r = 0.22\n",
    "simga = 0.32\n",
    "t = 0.25\n"
   ]
  },
  {
   "cell_type": "code",
   "execution_count": 6,
   "metadata": {},
   "outputs": [
    {
     "name": "stderr",
     "output_type": "stream",
     "text": [
      "error: unknown switch `m'\n",
      "usage: git add [<options>] [--] <pathspec>...\n",
      "\n",
      "    -n, --dry-run         dry run\n",
      "    -v, --verbose         be verbose\n",
      "\n",
      "    -i, --interactive     interactive picking\n",
      "    -p, --patch           select hunks interactively\n",
      "    -e, --edit            edit current diff and apply\n",
      "    -f, --force           allow adding otherwise ignored files\n",
      "    -u, --update          update tracked files\n",
      "    --renormalize         renormalize EOL of tracked files (implies -u)\n",
      "    -N, --intent-to-add   record only the fact that the path will be added later\n",
      "    -A, --all             add changes from all tracked and untracked files\n",
      "    --ignore-removal      ignore paths removed in the working tree (same as --no-all)\n",
      "    --refresh             don't add, only refresh the index\n",
      "    --ignore-errors       just skip files which cannot be added because of errors\n",
      "    --ignore-missing      check if - even missing - files are ignored in dry run\n",
      "    --chmod (+|-)x        override the executable bit of the listed files\n",
      "    --pathspec-from-file <file>\n",
      "                          read pathspec from file\n",
      "    --pathspec-file-nul   with --pathspec-from-file, pathspec elements are separated with NUL character\n",
      "\n"
     ]
    }
   ],
   "source": [
    "! git add -m \"Question 3 draft\""
   ]
  }
 ],
 "metadata": {
  "kernelspec": {
   "display_name": "Python 3",
   "language": "python",
   "name": "python3"
  },
  "language_info": {
   "codemirror_mode": {
    "name": "ipython",
    "version": 3
   },
   "file_extension": ".py",
   "mimetype": "text/x-python",
   "name": "python",
   "nbconvert_exporter": "python",
   "pygments_lexer": "ipython3",
   "version": "3.8.5"
  }
 },
 "nbformat": 4,
 "nbformat_minor": 4
}

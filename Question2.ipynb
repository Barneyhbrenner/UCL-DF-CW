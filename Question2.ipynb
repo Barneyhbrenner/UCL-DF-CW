{
 "cells": [
  {
   "cell_type": "markdown",
   "metadata": {},
   "source": [
    "# Question 2 [15 Marks]\n",
    "\n",
    "Suppose that you are a senior analyst at the fixed-income division of an investment bank. You have gathered relevant data about the fixed-income market and three bonds for further research. The information is summarised in Exhibits 1, 2 and 3."
   ]
  },
  {
   "cell_type": "code",
   "execution_count": 3,
   "metadata": {},
   "outputs": [],
   "source": [
    "import numpy as np"
   ]
  },
  {
   "cell_type": "markdown",
   "metadata": {},
   "source": [
    "### a) Based on Exhibit 1, find the five year-spot rate [2 marks].\n",
    "\n",
    "For this question we assume a par value of 100\n",
    "\n",
    "The 5 year par rate is the 5 year coupon rate where we can calculate the 5 year spot rate using the following calculations"
   ]
  },
  {
   "cell_type": "code",
   "execution_count": null,
   "metadata": {},
   "outputs": [],
   "source": [
    "#Assume par value of 100\n",
    "par_val = 100\n",
    "coupon_rate = 4.37 #5 year par rate = 5 year coupon rate\n",
    "a = par_val - 4.37 / (1.025) - 4.37 / (1.03 ** 2) - 4.37 / (1.035 ** 3) - 4.37 / (1.04 ** 4)\n",
    "print(a)\n",
    "#104.37 / (1 + x) ** 5 = a\n",
    "x = (104.37 / a) ** (1/5) - 1\n",
    "print(f'The five year spot rate must be {x * 100:.2f}%')"
   ]
  },
  {
   "cell_type": "markdown",
   "metadata": {},
   "source": [
    "### b) Use Exhibit 1 and the law of one price to calculate the forward rate of a one-year loan starting in three years. [1 mark]"
   ]
  },
  {
   "cell_type": "code",
   "execution_count": null,
   "metadata": {},
   "outputs": [],
   "source": [
    "# Part B\n",
    "ra = 0.04 #4 year spot rate\n",
    "rb = 0.035 #3 year spot rate - so that it rolls over into a 1y bond with required forward rate\n",
    "forward_rate = ((1 + ra) ** 4) / ((1 + rb) ** 3) - 1\n",
    "print(f'Forward Rate of a 3y1y bond = {forward_rate * 100:.2f}%')"
   ]
  },
  {
   "cell_type": "markdown",
   "metadata": {},
   "source": [
    "### c) Given spot rates for one-, two-, and three-year zero bonds, how many forward rates can be calculated? Please list the forward rates that can be calculated and briefly explain your answer. [3 marks]\n"
   ]
  },
  {
   "cell_type": "markdown",
   "metadata": {},
   "source": [
    "In order to calculate a future rate, we need two spot rates - A and B, where A has a smaller time-to-maturity than B.\n",
    "\n",
    "Additionally, the length of the forward period from today plus the duration of the underlying bond must be less than or\n",
    "equal to the longest time-to-maturity spot rate we have access to. \n",
    "\n",
    "Therefore, using notation 'Nyear, Myear' where N is the length of the forward period from today and M is the \n",
    "time-to-maturity of the underlying bond, we can calculate the following:\n",
    "\n",
    "1y1y, 1y2y, 1y3y, 1y4y;\n",
    "\n",
    "2y1y, 2y2y, 2y3y;\n",
    "\n",
    "3y1y, 3y2y;\n",
    "\n",
    "3y1y;\n",
    "\n",
    "A total of 10 future rates can be found. "
   ]
  },
  {
   "cell_type": "markdown",
   "metadata": {},
   "source": [
    "### d) Find the yield to maturity for Bond A. You should use the IRR formula method in python. [3 marks]"
   ]
  },
  {
   "cell_type": "code",
   "execution_count": null,
   "metadata": {},
   "outputs": [],
   "source": []
  },
  {
   "cell_type": "markdown",
   "metadata": {},
   "source": [
    "### e) Based on Exhibit 3, assume an equal probability of interest rate going up and down at each node. Calculate the value of Bond B and Bond C with the binomial tree model. [3 marks]"
   ]
  },
  {
   "cell_type": "code",
   "execution_count": null,
   "metadata": {},
   "outputs": [],
   "source": []
  },
  {
   "cell_type": "markdown",
   "metadata": {},
   "source": [
    "### f) All else being equal, explain the effect of a fall in interest rates on Bond B and Bond C. [2 marks]"
   ]
  },
  {
   "cell_type": "code",
   "execution_count": null,
   "metadata": {},
   "outputs": [],
   "source": []
  },
  {
   "cell_type": "markdown",
   "metadata": {},
   "source": [
    "### g) All else being equal, which bond is most likely to increase in value if interest rate volatility is 15% rather than 10%? Briefly explain your answer. (Hint: consider the value of options) [1 mark]"
   ]
  },
  {
   "cell_type": "code",
   "execution_count": null,
   "metadata": {},
   "outputs": [],
   "source": [
    "!git add "
   ]
  }
 ],
 "metadata": {
  "kernelspec": {
   "display_name": "Python 3",
   "language": "python",
   "name": "python3"
  },
  "language_info": {
   "codemirror_mode": {
    "name": "ipython",
    "version": 3
   },
   "file_extension": ".py",
   "mimetype": "text/x-python",
   "name": "python",
   "nbconvert_exporter": "python",
   "pygments_lexer": "ipython3",
   "version": "3.8.5"
  }
 },
 "nbformat": 4,
 "nbformat_minor": 4
}

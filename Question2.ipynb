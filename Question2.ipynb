{
 "cells": [
  {
   "cell_type": "markdown",
   "metadata": {},
   "source": [
    "# Question 2 [15 Marks]\n",
    "\n",
    "Suppose that you are a senior analyst at the fixed-income division of an investment bank. You have gathered relevant data about the fixed-income market and three bonds for further research. The information is summarised in Exhibits 1, 2 and 3."
   ]
  },
  {
   "cell_type": "code",
   "execution_count": 2,
   "metadata": {},
   "outputs": [],
   "source": [
    "import numpy as np\n",
    "import numpy_financial as npf"
   ]
  },
  {
   "cell_type": "markdown",
   "metadata": {},
   "source": [
    "### a) Based on Exhibit 1, find the five year-spot rate [2 marks].\n",
    "\n",
    "For this question we assume a par value of 100\n",
    "\n",
    "The 5 year par rate is the 5 year coupon rate which we calculate using:\n",
    "$$\n",
    "ds\n",
    "$$"
   ]
  },
  {
   "cell_type": "code",
   "execution_count": 2,
   "metadata": {},
   "outputs": [
    {
     "name": "stdout",
     "output_type": "stream",
     "text": [
      "83.94045730436999\n",
      "The five year spot rate must be 4.45%\n"
     ]
    }
   ],
   "source": [
    "#Assume par value of 100\n",
    "par_val = 100\n",
    "coupon_rate = 4.37 #5 year par rate = 5 year coupon rate\n",
    "a = par_val - 4.37 / (1.025) - 4.37 / (1.03 ** 2) - 4.37 / (1.035 ** 3) - 4.37 / (1.04 ** 4)\n",
    "print(a)\n",
    "#104.37 / (1 + x) ** 5 = a\n",
    "x = (104.37 / a) ** (1/5) - 1\n",
    "print(f'The five year spot rate must be {x * 100:.2f}%')"
   ]
  },
  {
   "cell_type": "markdown",
   "metadata": {},
   "source": [
    "### b) Use Exhibit 1 and the law of one price to calculate the forward rate of a one-year loan starting in three years. [1 mark]\n",
    "\n",
    "The law of one price states that the same commodity must sell at the same price in a well-functioning market.\n",
    "\n",
    "We calculate the Forward rate $R_F$ using:\n",
    "$$\n",
    "R_F = \\frac{R_2.T_2 - R_1.T_1}{T_2-T_1}\n",
    "$$\n",
    "\n"
   ]
  },
  {
   "cell_type": "code",
   "execution_count": 3,
   "metadata": {},
   "outputs": [
    {
     "name": "stdout",
     "output_type": "stream",
     "text": [
      "Forward Rate of a 3y1y bond = 5.51%\n"
     ]
    }
   ],
   "source": [
    "# Part B\n",
    "ra = 0.04 #4 year spot rate\n",
    "rb = 0.035 #3 year spot rate - so that it rolls over into a 1y bond with required forward rate\n",
    "forward_rate = ((1 + ra) ** 4) / ((1 + rb) ** 3) - 1\n",
    "print(f'Forward Rate of a 3y1y bond = {forward_rate * 100:.2f}%')"
   ]
  },
  {
   "cell_type": "markdown",
   "metadata": {},
   "source": [
    "### c) Given spot rates for one-, two-, and three-year zero bonds, how many forward rates can be calculated? Please list the forward rates that can be calculated and briefly explain your answer. [3 marks]\n"
   ]
  },
  {
   "cell_type": "markdown",
   "metadata": {},
   "source": [
    "In order to calculate a future rate, we need two spot rates - A and B, where A has a smaller time-to-maturity than B.\n",
    "\n",
    "Additionally, the length of the forward period from today plus the duration of the underlying bond must be less than or\n",
    "equal to the longest time-to-maturity spot rate we have access to. \n",
    "\n",
    "Therefore, using notation 'Nyear, Myear' where N is the length of the forward period from today and M is the \n",
    "time-to-maturity of the underlying bond, we can calculate the following:\n",
    "\n",
    "1y1y, 1y2y, 1y3y, 1y4y;\n",
    "\n",
    "2y1y, 2y2y, 2y3y;\n",
    "\n",
    "3y1y, 3y2y;\n",
    "\n",
    "3y1y;\n",
    "\n",
    "A total of 10 future rates can be found. "
   ]
  },
  {
   "cell_type": "markdown",
   "metadata": {},
   "source": [
    "### d) Find the yield to maturity for Bond A. You should use the IRR formula method in python. [3 marks]\n",
    "\n",
    "The yield to maturity is the internal rate of return on an investment in the bond. It can be interpreted as the compound rate of return over the life of the bond under the assumption that all bond coupons can be reinvested at that yield and is a proxy for average return."
   ]
  },
  {
   "cell_type": "markdown",
   "metadata": {},
   "source": [
    "The cash flow of this bond is the initial payment of \\\\$ 1000. As we have a 6\\% coupon rate over the three years, we are eventually repaid the value of the bond at maturity. Hence we recieve \\\\$1000 x 6\\% = \\\\$ 60 per year, where we are also repaid the \\\\$1000 at maturity."
   ]
  },
  {
   "cell_type": "code",
   "execution_count": 4,
   "metadata": {},
   "outputs": [
    {
     "name": "stdout",
     "output_type": "stream",
     "text": [
      "The yield to maturity for Bond A is therefore 0.06\n"
     ]
    }
   ],
   "source": [
    "CF = [-1000, 60, 60, 1060]\n",
    "ytm = npf.irr(CF)\n",
    "print(f'The yield to maturity for Bond A is therefore {round(ytm,5)}')"
   ]
  },
  {
   "cell_type": "markdown",
   "metadata": {},
   "source": [
    "### e) Based on Exhibit 3, assume an equal probability of interest rate going up and down at each node. Calculate the value of Bond B and Bond C with the binomial tree model. [3 marks]"
   ]
  },
  {
   "cell_type": "code",
   "execution_count": 3,
   "metadata": {},
   "outputs": [
    {
     "ename": "TypeError",
     "evalue": "binomial_model() missing 7 required positional arguments: 'S', 'K', 'T', 'r', 'u', 'd', and 'N'",
     "output_type": "error",
     "traceback": [
      "\u001b[1;31m---------------------------------------------------------------------------\u001b[0m",
      "\u001b[1;31mTypeError\u001b[0m                                 Traceback (most recent call last)",
      "\u001b[1;32m<ipython-input-3-fba98c02077e>\u001b[0m in \u001b[0;36m<module>\u001b[1;34m\u001b[0m\n\u001b[0;32m     10\u001b[0m     \u001b[1;32mreturn\u001b[0m \u001b[0mC\u001b[0m\u001b[1;33m[\u001b[0m\u001b[1;33m(\u001b[0m\u001b[1;36m0\u001b[0m\u001b[1;33m,\u001b[0m\u001b[1;36m0\u001b[0m\u001b[1;33m)\u001b[0m\u001b[1;33m]\u001b[0m\u001b[1;33m\u001b[0m\u001b[1;33m\u001b[0m\u001b[0m\n\u001b[0;32m     11\u001b[0m \u001b[1;33m\u001b[0m\u001b[0m\n\u001b[1;32m---> 12\u001b[1;33m \u001b[0mbond_b\u001b[0m \u001b[1;33m=\u001b[0m \u001b[0mbinomial_model\u001b[0m\u001b[1;33m(\u001b[0m\u001b[1;33m)\u001b[0m\u001b[1;33m\u001b[0m\u001b[1;33m\u001b[0m\u001b[0m\n\u001b[0m",
      "\u001b[1;31mTypeError\u001b[0m: binomial_model() missing 7 required positional arguments: 'S', 'K', 'T', 'r', 'u', 'd', and 'N'"
     ]
    }
   ],
   "source": [
    "def binomial_model(S, K, T, r, u, d, N):\n",
    "    dt = T/N\n",
    "    p = (math.exp(r * dt) - d)/(u - d)\n",
    "    C = {}\n",
    "    for m in range(0, N+1):\n",
    "            C[(N, m)] = max(S * (u ** (m)) * (d ** (N-m)) - K, 0)\n",
    "    for k in range(N-1, -1, -1):\n",
    "        for m in range(0,k+1):\n",
    "            C[(k, m)] = math.exp(-r * dt) * (p * C[(k+1, m+1)] + (1-p) * C[(k+1, m)])\n",
    "    return C[(0,0)]\n",
    "\n",
    "bond_b = binomial_model()"
   ]
  },
  {
   "cell_type": "markdown",
   "metadata": {},
   "source": [
    "### f) All else being equal, explain the effect of a fall in interest rates on Bond B and Bond C. [2 marks]"
   ]
  },
  {
   "cell_type": "markdown",
   "metadata": {},
   "source": [
    "As a callabe bond, a fall in interest rate may encourage the issuer of Bond B to call the bond early so that they can secure financing at a lower rate. This is due to the value of the bond \n",
    "https://www.investopedia.com/terms/c/callablebond.asp#:~:text=If%20they%20expect%20market%20interest,company%20may%20recall%20the%20note.\n",
    "\n",
    "As a puttable bond, if interest rates fall.\n",
    "\n",
    "to rewrite\n",
    "If interest rates fall, then the price of bonds increase. So price of Bonds B and C would rise\n",
    "Since C is a putable bond, the owner would make a profit selling the bond back. B is callable, and so a price rise\n",
    "would result in a loss if the seller re-purchased.\n"
   ]
  },
  {
   "cell_type": "markdown",
   "metadata": {},
   "source": [
    "### g) All else being equal, which bond is most likely to increase in value if interest rate volatility is 15% rather than 10%? Briefly explain your answer. (Hint: consider the value of options) [1 mark]"
   ]
  },
  {
   "cell_type": "markdown",
   "metadata": {},
   "source": [
    "Since B is callable, it is less likely to be re-purchased if prices go up (as would be expected with higher volatility).\n",
    "Therefore, the price would increase. Bond C may be sold back if prices go up."
   ]
  },
  {
   "cell_type": "code",
   "execution_count": null,
   "metadata": {},
   "outputs": [],
   "source": []
  }
 ],
 "metadata": {
  "kernelspec": {
   "display_name": "Python 3",
   "language": "python",
   "name": "python3"
  },
  "language_info": {
   "codemirror_mode": {
    "name": "ipython",
    "version": 3
   },
   "file_extension": ".py",
   "mimetype": "text/x-python",
   "name": "python",
   "nbconvert_exporter": "python",
   "pygments_lexer": "ipython3",
   "version": "3.8.5"
  }
 },
 "nbformat": 4,
 "nbformat_minor": 4
}

{
 "cells": [
  {
   "cell_type": "markdown",
   "id": "2a8a843c-cebe-4e94-8d3a-c0cf9a4948b9",
   "metadata": {},
   "source": [
    "## Question 5\n",
    "You are a life actuary of an insurance company. Today on 13 March 2022, a potential\n",
    "client, Alice, is looking to sign a permanent life insurance contract with your company.\n",
    "Alice, born on 28 October 1983, is a smoker with the health condition standard for her\n",
    "cohort with the same age, gender, and smoker status. You decide to apply the 2015\n",
    "Valuation Basic Table (VBT) (www.soa.org/files/research/exp-study/2015-vbt-smokerdistinct-alb-anb.xlsx) for Alice’s mortality evaluation with the Age Nearest Birthday\n",
    "(ANB) method for her age calculation. Your company applies the valuation interest rate\n",
    "of 3.5% for premium pricing:\n",
    "\n",
    "a) Calculate Alice’s annal unconditional survival rates $_np_x$ from now to age 42. [3\n",
    "marks]\n",
    "\n",
    "b) Calculate Alice’s life expectancy in years (show one decimal place). [2 marks]\n",
    "\n",
    "c) Calculate the probability that Alice dies exactly between 6 and 9 years from now\n",
    "(show five decimal places). [2 marks]\n",
    "\n",
    "d) Calculate the minimum annual premium rate (premium as a fraction of death\n",
    "benefit) that your company should charge for Alice’s cohort (show five decimal\n",
    "places). [3 marks]\n",
    "\n",
    "e) What technologies can you apply to enable a closer prediction on the company’s\n",
    "cash flow linked to this line of business of permanent life insurance? [answers\n",
    "should be no longer than 200 words] [4 marks]\n",
    "\n",
    "https://en.wikipedia.org/wiki/Force_of_mortality"
   ]
  },
  {
   "cell_type": "code",
   "execution_count": 25,
   "id": "18f3359f-c8d3-4c1a-90ee-9fa072557586",
   "metadata": {
    "jupyter": {
     "source_hidden": true
    },
    "tags": []
   },
   "outputs": [],
   "source": [
    "import pandas as pd\n",
    "import numpy as np\n",
    "from datetime import date, timedelta\n",
    "from scipy.stats import norm"
   ]
  },
  {
   "cell_type": "code",
   "execution_count": 2,
   "id": "51a2a12c-5592-43e7-805e-ce84380f7440",
   "metadata": {
    "jupyter": {
     "source_hidden": true
    },
    "tags": []
   },
   "outputs": [
    {
     "data": {
      "text/html": [
       "<div>\n",
       "<style scoped>\n",
       "    .dataframe tbody tr th:only-of-type {\n",
       "        vertical-align: middle;\n",
       "    }\n",
       "\n",
       "    .dataframe tbody tr th {\n",
       "        vertical-align: top;\n",
       "    }\n",
       "\n",
       "    .dataframe thead th {\n",
       "        text-align: right;\n",
       "    }\n",
       "</style>\n",
       "<table border=\"1\" class=\"dataframe\">\n",
       "  <thead>\n",
       "    <tr style=\"text-align: right;\">\n",
       "      <th></th>\n",
       "      <th>Iss. Age</th>\n",
       "      <th>1</th>\n",
       "      <th>2</th>\n",
       "      <th>3</th>\n",
       "      <th>4</th>\n",
       "      <th>5</th>\n",
       "      <th>6</th>\n",
       "      <th>7</th>\n",
       "      <th>8</th>\n",
       "      <th>9</th>\n",
       "      <th>...</th>\n",
       "      <th>18</th>\n",
       "      <th>19</th>\n",
       "      <th>20</th>\n",
       "      <th>21</th>\n",
       "      <th>22</th>\n",
       "      <th>23</th>\n",
       "      <th>24</th>\n",
       "      <th>25</th>\n",
       "      <th>Ult.</th>\n",
       "      <th>Att. Age</th>\n",
       "    </tr>\n",
       "  </thead>\n",
       "  <tbody>\n",
       "    <tr>\n",
       "      <th>0</th>\n",
       "      <td>18</td>\n",
       "      <td>0.27</td>\n",
       "      <td>0.27</td>\n",
       "      <td>0.27</td>\n",
       "      <td>0.27</td>\n",
       "      <td>0.27</td>\n",
       "      <td>0.29</td>\n",
       "      <td>0.33</td>\n",
       "      <td>0.34</td>\n",
       "      <td>0.34</td>\n",
       "      <td>...</td>\n",
       "      <td>0.73</td>\n",
       "      <td>0.86</td>\n",
       "      <td>1.03</td>\n",
       "      <td>1.17</td>\n",
       "      <td>1.29</td>\n",
       "      <td>1.40</td>\n",
       "      <td>1.49</td>\n",
       "      <td>1.58</td>\n",
       "      <td>1.67</td>\n",
       "      <td>43</td>\n",
       "    </tr>\n",
       "    <tr>\n",
       "      <th>1</th>\n",
       "      <td>19</td>\n",
       "      <td>0.27</td>\n",
       "      <td>0.27</td>\n",
       "      <td>0.26</td>\n",
       "      <td>0.26</td>\n",
       "      <td>0.27</td>\n",
       "      <td>0.31</td>\n",
       "      <td>0.33</td>\n",
       "      <td>0.33</td>\n",
       "      <td>0.33</td>\n",
       "      <td>...</td>\n",
       "      <td>0.86</td>\n",
       "      <td>1.01</td>\n",
       "      <td>1.16</td>\n",
       "      <td>1.29</td>\n",
       "      <td>1.40</td>\n",
       "      <td>1.49</td>\n",
       "      <td>1.58</td>\n",
       "      <td>1.67</td>\n",
       "      <td>1.76</td>\n",
       "      <td>44</td>\n",
       "    </tr>\n",
       "    <tr>\n",
       "      <th>2</th>\n",
       "      <td>20</td>\n",
       "      <td>0.24</td>\n",
       "      <td>0.23</td>\n",
       "      <td>0.24</td>\n",
       "      <td>0.25</td>\n",
       "      <td>0.29</td>\n",
       "      <td>0.31</td>\n",
       "      <td>0.32</td>\n",
       "      <td>0.32</td>\n",
       "      <td>0.34</td>\n",
       "      <td>...</td>\n",
       "      <td>1.00</td>\n",
       "      <td>1.14</td>\n",
       "      <td>1.27</td>\n",
       "      <td>1.40</td>\n",
       "      <td>1.49</td>\n",
       "      <td>1.58</td>\n",
       "      <td>1.67</td>\n",
       "      <td>1.76</td>\n",
       "      <td>1.87</td>\n",
       "      <td>45</td>\n",
       "    </tr>\n",
       "    <tr>\n",
       "      <th>3</th>\n",
       "      <td>21</td>\n",
       "      <td>0.19</td>\n",
       "      <td>0.21</td>\n",
       "      <td>0.23</td>\n",
       "      <td>0.26</td>\n",
       "      <td>0.29</td>\n",
       "      <td>0.30</td>\n",
       "      <td>0.31</td>\n",
       "      <td>0.33</td>\n",
       "      <td>0.37</td>\n",
       "      <td>...</td>\n",
       "      <td>1.13</td>\n",
       "      <td>1.26</td>\n",
       "      <td>1.38</td>\n",
       "      <td>1.49</td>\n",
       "      <td>1.58</td>\n",
       "      <td>1.67</td>\n",
       "      <td>1.76</td>\n",
       "      <td>1.87</td>\n",
       "      <td>2.05</td>\n",
       "      <td>46</td>\n",
       "    </tr>\n",
       "    <tr>\n",
       "      <th>4</th>\n",
       "      <td>22</td>\n",
       "      <td>0.17</td>\n",
       "      <td>0.20</td>\n",
       "      <td>0.24</td>\n",
       "      <td>0.27</td>\n",
       "      <td>0.28</td>\n",
       "      <td>0.30</td>\n",
       "      <td>0.32</td>\n",
       "      <td>0.35</td>\n",
       "      <td>0.39</td>\n",
       "      <td>...</td>\n",
       "      <td>1.24</td>\n",
       "      <td>1.36</td>\n",
       "      <td>1.48</td>\n",
       "      <td>1.58</td>\n",
       "      <td>1.67</td>\n",
       "      <td>1.76</td>\n",
       "      <td>1.87</td>\n",
       "      <td>2.05</td>\n",
       "      <td>2.25</td>\n",
       "      <td>47</td>\n",
       "    </tr>\n",
       "  </tbody>\n",
       "</table>\n",
       "<p>5 rows × 28 columns</p>\n",
       "</div>"
      ],
      "text/plain": [
       "   Iss. Age     1     2     3     4     5     6     7     8     9  ...    18  \\\n",
       "0        18  0.27  0.27  0.27  0.27  0.27  0.29  0.33  0.34  0.34  ...  0.73   \n",
       "1        19  0.27  0.27  0.26  0.26  0.27  0.31  0.33  0.33  0.33  ...  0.86   \n",
       "2        20  0.24  0.23  0.24  0.25  0.29  0.31  0.32  0.32  0.34  ...  1.00   \n",
       "3        21  0.19  0.21  0.23  0.26  0.29  0.30  0.31  0.33  0.37  ...  1.13   \n",
       "4        22  0.17  0.20  0.24  0.27  0.28  0.30  0.32  0.35  0.39  ...  1.24   \n",
       "\n",
       "     19    20    21    22    23    24    25  Ult.  Att. Age  \n",
       "0  0.86  1.03  1.17  1.29  1.40  1.49  1.58  1.67        43  \n",
       "1  1.01  1.16  1.29  1.40  1.49  1.58  1.67  1.76        44  \n",
       "2  1.14  1.27  1.40  1.49  1.58  1.67  1.76  1.87        45  \n",
       "3  1.26  1.38  1.49  1.58  1.67  1.76  1.87  2.05        46  \n",
       "4  1.36  1.48  1.58  1.67  1.76  1.87  2.05  2.25        47  \n",
       "\n",
       "[5 rows x 28 columns]"
      ]
     },
     "execution_count": 2,
     "metadata": {},
     "output_type": "execute_result"
    }
   ],
   "source": [
    "excel_df = pd.read_excel('./data/2015-vbt-smoker-distinct-alb-anb.xlsx', header=2, sheet_name='2015 FSM ANB')\n",
    "excel_df.set_index = excel_df['Iss. Age']\n",
    "excel_df.head()"
   ]
  },
  {
   "cell_type": "code",
   "execution_count": 3,
   "id": "a4758601-2690-4366-a912-8a28b41126e9",
   "metadata": {
    "jupyter": {
     "source_hidden": true
    },
    "tags": []
   },
   "outputs": [
    {
     "name": "stdout",
     "output_type": "stream",
     "text": [
      "Alice is 38 years old (ANB)\n"
     ]
    }
   ],
   "source": [
    "alice_bday=date(1983, 10, 28)\n",
    "today = date(2022, 3, 12)\n",
    "alice_age = (today- alice_bday)/timedelta(days=365)\n",
    "alice_age_anb = round(alice_age)\n",
    "print(f\"Alice is {alice_age_anb} years old (ANB)\")"
   ]
  },
  {
   "cell_type": "markdown",
   "id": "dfdb9b38-0cbd-4f68-b733-ec38e46974ff",
   "metadata": {},
   "source": [
    "${_n|}q_x$: conditional mortality rate, i.e. the person is dead at the end of $(n+1)^{\\text{th}}$ year given the person is alive at the end of the $n^{\\text{th}}$ year\n",
    "\n",
    "$1 - {_n|}q_x$: conditional survival rate\n",
    "\n",
    "${_n}p_x$ the probability that a person aged $x$ is alive at the end of the $n^{\\text{th}}$ year\n",
    "\\begin{equation}\n",
    "{_n}p_x = \\prod^{n-1}_{m=0}1-{_m|}q_x \\quad n \\geq 1\n",
    "\\end{equation}\n",
    "\n",
    "$P_n$ = the probability that the person dies between year $n$ and $n+1$"
   ]
  },
  {
   "cell_type": "code",
   "execution_count": 11,
   "id": "c5f46d52-4efb-4a06-85be-0adfbf533fe5",
   "metadata": {
    "jupyter": {
     "source_hidden": true
    },
    "tags": []
   },
   "outputs": [
    {
     "data": {
      "text/html": [
       "<div>\n",
       "<style scoped>\n",
       "    .dataframe tbody tr th:only-of-type {\n",
       "        vertical-align: middle;\n",
       "    }\n",
       "\n",
       "    .dataframe tbody tr th {\n",
       "        vertical-align: top;\n",
       "    }\n",
       "\n",
       "    .dataframe thead th {\n",
       "        text-align: right;\n",
       "    }\n",
       "</style>\n",
       "<table border=\"1\" class=\"dataframe\">\n",
       "  <thead>\n",
       "    <tr style=\"text-align: right;\">\n",
       "      <th></th>\n",
       "      <th>1</th>\n",
       "      <th>2</th>\n",
       "      <th>3</th>\n",
       "      <th>4</th>\n",
       "      <th>5</th>\n",
       "      <th>6</th>\n",
       "      <th>7</th>\n",
       "      <th>8</th>\n",
       "      <th>9</th>\n",
       "      <th>10</th>\n",
       "      <th>...</th>\n",
       "      <th>16</th>\n",
       "      <th>17</th>\n",
       "      <th>18</th>\n",
       "      <th>19</th>\n",
       "      <th>20</th>\n",
       "      <th>21</th>\n",
       "      <th>22</th>\n",
       "      <th>23</th>\n",
       "      <th>24</th>\n",
       "      <th>25</th>\n",
       "    </tr>\n",
       "  </thead>\n",
       "  <tbody>\n",
       "    <tr>\n",
       "      <th>${_n|}q_x$</th>\n",
       "      <td>0.0037</td>\n",
       "      <td>0.00530</td>\n",
       "      <td>0.007200</td>\n",
       "      <td>0.008800</td>\n",
       "      <td>0.010100</td>\n",
       "      <td>0.011300</td>\n",
       "      <td>0.012600</td>\n",
       "      <td>0.014000</td>\n",
       "      <td>0.017800</td>\n",
       "      <td>0.020400</td>\n",
       "      <td>...</td>\n",
       "      <td>0.039100</td>\n",
       "      <td>0.043600</td>\n",
       "      <td>0.048300</td>\n",
       "      <td>0.053500</td>\n",
       "      <td>0.059300</td>\n",
       "      <td>0.065900</td>\n",
       "      <td>0.073100</td>\n",
       "      <td>0.081200</td>\n",
       "      <td>0.090100</td>\n",
       "      <td>0.100100</td>\n",
       "    </tr>\n",
       "    <tr>\n",
       "      <th>$1-{_n|}q_x$</th>\n",
       "      <td>0.9963</td>\n",
       "      <td>0.99470</td>\n",
       "      <td>0.992800</td>\n",
       "      <td>0.991200</td>\n",
       "      <td>0.989900</td>\n",
       "      <td>0.988700</td>\n",
       "      <td>0.987400</td>\n",
       "      <td>0.986000</td>\n",
       "      <td>0.982200</td>\n",
       "      <td>0.979600</td>\n",
       "      <td>...</td>\n",
       "      <td>0.960900</td>\n",
       "      <td>0.956400</td>\n",
       "      <td>0.951700</td>\n",
       "      <td>0.946500</td>\n",
       "      <td>0.940700</td>\n",
       "      <td>0.934100</td>\n",
       "      <td>0.926900</td>\n",
       "      <td>0.918800</td>\n",
       "      <td>0.909900</td>\n",
       "      <td>0.899900</td>\n",
       "    </tr>\n",
       "    <tr>\n",
       "      <th>${_n}p_x$</th>\n",
       "      <td>0.9963</td>\n",
       "      <td>0.99102</td>\n",
       "      <td>0.983884</td>\n",
       "      <td>0.975226</td>\n",
       "      <td>0.965376</td>\n",
       "      <td>0.954468</td>\n",
       "      <td>0.942441</td>\n",
       "      <td>0.929247</td>\n",
       "      <td>0.912706</td>\n",
       "      <td>0.894087</td>\n",
       "      <td>...</td>\n",
       "      <td>0.742682</td>\n",
       "      <td>0.710301</td>\n",
       "      <td>0.675993</td>\n",
       "      <td>0.639828</td>\n",
       "      <td>0.601886</td>\n",
       "      <td>0.562222</td>\n",
       "      <td>0.521123</td>\n",
       "      <td>0.478808</td>\n",
       "      <td>0.435667</td>\n",
       "      <td>0.392057</td>\n",
       "    </tr>\n",
       "    <tr>\n",
       "      <th>$P_n$</th>\n",
       "      <td>0.0037</td>\n",
       "      <td>0.00528</td>\n",
       "      <td>0.007135</td>\n",
       "      <td>0.008658</td>\n",
       "      <td>0.009850</td>\n",
       "      <td>0.010909</td>\n",
       "      <td>0.012026</td>\n",
       "      <td>0.013194</td>\n",
       "      <td>0.016541</td>\n",
       "      <td>0.018619</td>\n",
       "      <td>...</td>\n",
       "      <td>0.030220</td>\n",
       "      <td>0.032381</td>\n",
       "      <td>0.034308</td>\n",
       "      <td>0.036166</td>\n",
       "      <td>0.037942</td>\n",
       "      <td>0.039664</td>\n",
       "      <td>0.041098</td>\n",
       "      <td>0.042315</td>\n",
       "      <td>0.043141</td>\n",
       "      <td>0.043610</td>\n",
       "    </tr>\n",
       "  </tbody>\n",
       "</table>\n",
       "<p>4 rows × 25 columns</p>\n",
       "</div>"
      ],
      "text/plain": [
       "                  1        2         3         4         5         6   \\\n",
       "${_n|}q_x$    0.0037  0.00530  0.007200  0.008800  0.010100  0.011300   \n",
       "$1-{_n|}q_x$  0.9963  0.99470  0.992800  0.991200  0.989900  0.988700   \n",
       "${_n}p_x$     0.9963  0.99102  0.983884  0.975226  0.965376  0.954468   \n",
       "$P_n$         0.0037  0.00528  0.007135  0.008658  0.009850  0.010909   \n",
       "\n",
       "                    7         8         9         10  ...        16        17  \\\n",
       "${_n|}q_x$    0.012600  0.014000  0.017800  0.020400  ...  0.039100  0.043600   \n",
       "$1-{_n|}q_x$  0.987400  0.986000  0.982200  0.979600  ...  0.960900  0.956400   \n",
       "${_n}p_x$     0.942441  0.929247  0.912706  0.894087  ...  0.742682  0.710301   \n",
       "$P_n$         0.012026  0.013194  0.016541  0.018619  ...  0.030220  0.032381   \n",
       "\n",
       "                    18        19        20        21        22        23  \\\n",
       "${_n|}q_x$    0.048300  0.053500  0.059300  0.065900  0.073100  0.081200   \n",
       "$1-{_n|}q_x$  0.951700  0.946500  0.940700  0.934100  0.926900  0.918800   \n",
       "${_n}p_x$     0.675993  0.639828  0.601886  0.562222  0.521123  0.478808   \n",
       "$P_n$         0.034308  0.036166  0.037942  0.039664  0.041098  0.042315   \n",
       "\n",
       "                    24        25  \n",
       "${_n|}q_x$    0.090100  0.100100  \n",
       "$1-{_n|}q_x$  0.909900  0.899900  \n",
       "${_n}p_x$     0.435667  0.392057  \n",
       "$P_n$         0.043141  0.043610  \n",
       "\n",
       "[4 rows x 25 columns]"
      ]
     },
     "execution_count": 11,
     "metadata": {},
     "output_type": "execute_result"
    }
   ],
   "source": [
    "series = excel_df.loc[excel_df['Iss. Age'] == alice_age_anb].drop(columns=['Iss. Age', 'Ult.', 'Att. Age'])\n",
    "n = len(series.columns)\n",
    "df = pd.DataFrame(columns=series.columns)\n",
    "df.loc['${_n|}q_x$'] = series.to_numpy()[0] * 10**-2\n",
    "df.loc['$1-{_n|}q_x$'] = 1 - df.loc['${_n|}q_x$'] \n",
    "df.loc['${_n}p_x$'] = df.loc['$1-{_n|}q_x$']\n",
    "\n",
    "for i in range(1,n+1):\n",
    "    df.loc['${_n}p_x$', i] = np.prod(df.loc['$1-{_n|}q_x$', list(np.arange(1, i+1))])\n",
    "df.loc['$P_n$'] = df.loc['${_n}p_x$'] \n",
    "for i in range(1, n+1):\n",
    "    if i == 1:\n",
    "        df.loc['$P_n$', i] = 1 - df.loc['${_n}p_x$', i] \n",
    "        continue\n",
    "    df.loc['$P_n$', i] = (1 - df.loc['${_n}p_x$', i]) - (1 - df.loc['${_n}p_x$', i-1])\n",
    "df"
   ]
  },
  {
   "cell_type": "markdown",
   "id": "4c316845-758c-4c7c-b561-1ee5a3a09300",
   "metadata": {},
   "source": [
    "<hr>\n",
    "\n",
    "## a) Calculate Alice’s annal unconditional survival rates $_np_x$ from now to age 42. [3 marks]"
   ]
  },
  {
   "cell_type": "code",
   "execution_count": 5,
   "id": "8a97f6bf-3d56-452e-9e55-7e5c81d596be",
   "metadata": {
    "jupyter": {
     "source_hidden": true
    },
    "tags": []
   },
   "outputs": [
    {
     "data": {
      "text/plain": [
       "38    0.996300\n",
       "39    0.991020\n",
       "40    0.983884\n",
       "41    0.975226\n",
       "42    0.965376\n",
       "Name: ${_n}p_x$, dtype: float64"
      ]
     },
     "execution_count": 5,
     "metadata": {},
     "output_type": "execute_result"
    }
   ],
   "source": [
    "year_range = np.arange(alice_age_anb, 44)\n",
    "df1 = df.loc['${_n}p_x$', np.arange(1,len(year_range))].copy()\n",
    "df1.rename(index=lambda x: year_range[x-1], inplace=True)\n",
    "df1"
   ]
  },
  {
   "cell_type": "markdown",
   "id": "4b9ad576-7b77-43e5-8b4e-9cf7c2b165bf",
   "metadata": {
    "tags": []
   },
   "source": [
    "<hr>\n",
    "\n",
    "## b) Calculate Alice’s life expectancy in years (show one decimal place)\n",
    "\n",
    "\\begin{equation}\n",
    "LE = \\sum_n {_n}p_x - 0.5\n",
    "\\end{equation}"
   ]
  },
  {
   "cell_type": "code",
   "execution_count": 6,
   "id": "8007c649-dd94-49fd-9650-ba9ac8e16c7e",
   "metadata": {
    "jupyter": {
     "source_hidden": true
    },
    "tags": []
   },
   "outputs": [
    {
     "name": "stdout",
     "output_type": "stream",
     "text": [
      "Alice will live for another 18.9 years. She will die at 57.3 years old\n"
     ]
    }
   ],
   "source": [
    "LE = round((np.sum(df.loc['${_n}p_x$']) - 0.5),1)\n",
    "print(f'Alice will live for another {LE} years. She will die at {round(alice_age+LE, 1)} years old')"
   ]
  },
  {
   "cell_type": "markdown",
   "id": "24bd78e2-1625-4837-9d68-55b67bd4d756",
   "metadata": {},
   "source": [
    "<hr>\n",
    "\n",
    "## c) Calculate the probability that Alice dies exactly between 6 and 9 years from now (show five decimal places)\n",
    "\n",
    "Want to find $P_7$ + $P_8$ + $P_9$"
   ]
  },
  {
   "cell_type": "code",
   "execution_count": 7,
   "id": "895f9244-35f7-444c-b853-714139e0705b",
   "metadata": {
    "jupyter": {
     "source_hidden": true
    },
    "tags": []
   },
   "outputs": [
    {
     "name": "stdout",
     "output_type": "stream",
     "text": [
      "Probability that Alice dies exactly between 6 and 9 years from now is 0.04176\n"
     ]
    }
   ],
   "source": [
    "prob = np.sum(df.loc['$P_n$', np.arange(7,10)])\n",
    "print(f\"Probability that Alice dies exactly between 6 and 9 years from now is {round(prob, 5)}\")"
   ]
  },
  {
   "cell_type": "markdown",
   "id": "eea21f51-34a7-481e-9fc0-4ec616117090",
   "metadata": {},
   "source": [
    "<hr>\n",
    "\n",
    "## d) Calculate the minimum annual premium rate (premium as a fraction of death benefit) that your company should charge for Alice’s cohort (show five decimal places).\n",
    "\n",
    "\\begin{equation}\n",
    "PV = \\sum^{\\infty}_{n=0} \\frac{_np_x\\cdot\\pi_n - P_n\\cdot DB}{(1+r)^n}\n",
    "\\end{equation}\n",
    "where: \n",
    "- $\\pi_n$: premium to be paid at time n (up-front payment, from time 0)\n",
    "- $DB$: death benefit amount\n",
    "- $r$: valuation interest rate = 3.5%"
   ]
  },
  {
   "cell_type": "code",
   "execution_count": 12,
   "id": "eeb0107d-236e-42c4-90a0-3783aa3b65c1",
   "metadata": {
    "jupyter": {
     "source_hidden": true
    },
    "tags": []
   },
   "outputs": [],
   "source": [
    "# parameters:\n",
    "# risk-free interest rate:\n",
    "r = 0.015;\n",
    "# deferment rate\n",
    "q = 0.01;\n",
    "# volatility\n",
    "sigma = 0.13\n",
    "# loan rate\n",
    "l = 0.06;\n",
    "# current house price\n",
    "S = 400000;\n",
    "# current loan value\n",
    "K = 120000;"
   ]
  },
  {
   "cell_type": "code",
   "execution_count": 38,
   "id": "ee4c9e29-41f2-4f07-ba9e-23b505942606",
   "metadata": {
    "jupyter": {
     "source_hidden": true
    },
    "tags": []
   },
   "outputs": [
    {
     "name": "stdout",
     "output_type": "stream",
     "text": [
      "Present value of the loan is £161285.7075\n"
     ]
    }
   ],
   "source": [
    "df.loc['multiplier1', 0]  = K\n",
    "for t in range(1, n+1):\n",
    "    df.loc['multiplier1', t] = K * np.exp((l-r)*t);\n",
    "\n",
    "df.loc['d1', 0] = 0;\n",
    "for t in range(1,n+1):\n",
    "    df.loc['d1', t] = (np.log(S * np.exp(-q*t)/df.loc['multiplier1', t]) + t * sigma * sigma * 0.5)/ (sigma * np.sqrt(t))\n",
    "    \n",
    "for t in range(0,n+1):\n",
    "    df.loc['d2', t] = df.loc['d1', t] - sigma * np.sqrt(t);\n",
    "\n",
    "df.loc['N-d1'] = norm.cdf(-df.loc['d1'])\n",
    "df.loc['N-d2'] = norm.cdf(-df.loc['d2'])\n",
    "\n",
    "for t in range(1,n+1):\n",
    "    df.loc['NNEG', t] = df.loc['$P_n$', t] * (df.loc['multiplier1', t] * df.loc['N-d2', t] - S * np.exp(-q * t) * df.loc['N-d1', t]);\n",
    "    \n",
    "for t in range(1,n+1):\n",
    "    df.loc['$PV$', t] = df.loc['$P_n$', t] * df.loc['multiplier1', t];\n",
    "    \n",
    "print(f'Present value of the loan is £{round(df.loc[\"$PV$\"].sum(), 5)}')"
   ]
  },
  {
   "cell_type": "markdown",
   "id": "337d2434-120f-4a81-8ab6-89374382eb84",
   "metadata": {},
   "source": [
    "<hr>\n",
    "\n",
    "# e) What technologies can you apply to enable a closer prediction on the company’s cash flow linked to this line of business of permanent life insurance? (200 words)  "
   ]
  },
  {
   "cell_type": "markdown",
   "id": "c592b144-a7fd-4673-bc86-03159d10602e",
   "metadata": {},
   "source": [
    "- smart contracts\n",
    "- Internet of Things\n",
    "- Big Data Analytics"
   ]
  }
 ],
 "metadata": {
  "kernelspec": {
   "display_name": "Python 3",
   "language": "python",
   "name": "python3"
  },
  "language_info": {
   "codemirror_mode": {
    "name": "ipython",
    "version": 3
   },
   "file_extension": ".py",
   "mimetype": "text/x-python",
   "name": "python",
   "nbconvert_exporter": "python",
   "pygments_lexer": "ipython3",
   "version": "3.7.1"
  }
 },
 "nbformat": 4,
 "nbformat_minor": 5
}

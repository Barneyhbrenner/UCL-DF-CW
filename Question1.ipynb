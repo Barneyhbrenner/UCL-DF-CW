{
 "cells": [
  {
   "cell_type": "code",
   "execution_count": 1,
   "metadata": {},
   "outputs": [],
   "source": [
    "import numpy as np"
   ]
  },
  {
   "cell_type": "markdown",
   "metadata": {},
   "source": [
    "# Question 1 [16 marks]\n",
    "\n",
    "Key figures"
   ]
  },
  {
   "cell_type": "code",
   "execution_count": 2,
   "metadata": {},
   "outputs": [],
   "source": [
    "equity_risk_prem = 0.0482\n",
    "risk_free_ROI = 0.0425\n",
    "market_debt_val = 900e6\n",
    "market_equity_val = 2.4e9\n",
    "equity_b = 1.3\n",
    "pre_tax_debt_cost = 0.0925\n",
    "corp_tax = 0.375\n",
    "debt_investment = 80e6\n",
    "equity_investment = 20e6"
   ]
  },
  {
   "cell_type": "markdown",
   "metadata": {},
   "source": [
    "### a) Calculate the weighted average cost of capital of ABC prior to its new project investment. [3 marks] "
   ]
  },
  {
   "cell_type": "code",
   "execution_count": 3,
   "metadata": {},
   "outputs": [
    {
     "name": "stdout",
     "output_type": "stream",
     "text": [
      "Weighted Average Cost of Capital = 0.0603\n"
     ]
    }
   ],
   "source": [
    "WACC = (market_debt_val * pre_tax_debt_cost + market_equity_val * equity_risk_prem) / (market_debt_val + market_equity_val)\n",
    "print(f'Weighted Average Cost of Capital = {WACC:.4f}')"
   ]
  },
  {
   "cell_type": "markdown",
   "metadata": {},
   "source": [
    "### b) Find ABC’s asset beta prior to the new project. [2 marks]"
   ]
  },
  {
   "cell_type": "code",
   "execution_count": 4,
   "metadata": {},
   "outputs": [
    {
     "name": "stdout",
     "output_type": "stream",
     "text": [
      "Asset Beta = 0.9455\n"
     ]
    }
   ],
   "source": [
    "beta_A = equity_b * market_equity_val / (market_debt_val + market_equity_val)\n",
    "print(f'Asset Beta = {beta_A:.4f}')"
   ]
  },
  {
   "cell_type": "markdown",
   "metadata": {},
   "source": [
    "### c) If the new project has the same asset beta as the ABC company in b), find the project equity beta. [2 marks]"
   ]
  },
  {
   "cell_type": "code",
   "execution_count": 5,
   "metadata": {},
   "outputs": [
    {
     "name": "stdout",
     "output_type": "stream",
     "text": [
      "Project equity beta = 1.2180\n"
     ]
    }
   ],
   "source": [
    "D = market_debt_val + debt_investment\n",
    "E = market_equity_val + equity_investment\n",
    "beta_E_proj = beta_A * (1 + D / (E + D))\n",
    "print(f'Project equity beta = {beta_E_proj:.4f}')"
   ]
  },
  {
   "cell_type": "markdown",
   "metadata": {},
   "source": [
    "### d) Use python functions to automatically calculate project FCFs and prove that the aftertax free cash flow generated for the next three years are \\\\$ 48 million, \\\\$ 52 million, and \\\\$ 54.4 million, respectively. [2 marks]\n",
    "\n",
    "#### FCF = (Revenues – Operating Costs – Depreciation) * (1 – Tax Rate) + Depreciation\n"
   ]
  },
  {
   "cell_type": "code",
   "execution_count": 6,
   "metadata": {},
   "outputs": [],
   "source": [
    "def FCF(rev, op, dep, tax):\n",
    "    return (rev - op - dep) * (1 - tax) + dep"
   ]
  },
  {
   "cell_type": "code",
   "execution_count": 7,
   "metadata": {},
   "outputs": [
    {
     "name": "stdout",
     "output_type": "stream",
     "text": [
      "FCF for year 1 = $48.0 million\n",
      "FCF for year 2 = $52.0 million\n",
      "FCF for year 3 = $54.4 million\n"
     ]
    }
   ],
   "source": [
    "rev = [99.2, 109.6, 115.44]\n",
    "ops = [32, 36, 38]\n",
    "deps = [16, 16, 16]\n",
    "FCFs = []\n",
    "\n",
    "for t, (r, o, d) in enumerate(zip(rev, ops, deps)):\n",
    "    FCFs.append(FCF(r, o, d, corp_tax))\n",
    "    print(f'FCF for year {t + 1} = ${FCF(r, o, d, corp_tax):.1f} million')"
   ]
  },
  {
   "cell_type": "markdown",
   "metadata": {},
   "source": [
    "### e) Find the project NPV and IRR with the next three years after-tax free cash flow given in d). [2 marks]"
   ]
  },
  {
   "cell_type": "code",
   "execution_count": 8,
   "metadata": {},
   "outputs": [],
   "source": [
    "def IRR_Step(start, step, thresh=0.0001):\n",
    "    r = start\n",
    "    npv = lambda x: FCFs[0] / (1 + x) + CFs[1] / ((1 + x) ** 2) + CFs[2] / ((1 + x) ** 3) - 100\n",
    "    guess = npv(r)\n",
    "    while abs(guess) > thresh:\n",
    "        if guess > 0:\n",
    "            r += step\n",
    "            new_guess = npv(r)\n",
    "            if new_guess < 0:\n",
    "                step /= 2\n",
    "                r -= step\n",
    "                guess = npv(r)\n",
    "            else:\n",
    "                guess = new_guess\n",
    "        if guess < 0:\n",
    "            r -= step\n",
    "            new_guess = npv(r)\n",
    "            if new_guess > 0:\n",
    "                step /= 2\n",
    "                r += step\n",
    "                guess = npv(r)\n",
    "            else:\n",
    "                guess = new_guess\n",
    "\n",
    "    return r"
   ]
  },
  {
   "cell_type": "code",
   "execution_count": 9,
   "metadata": {},
   "outputs": [
    {
     "name": "stdout",
     "output_type": "stream",
     "text": [
      "NPV = 82.11431303519197\n",
      "IRR = 0.40042\n"
     ]
    }
   ],
   "source": [
    "CFs = [99.2 - 32, 109.6 - 36, 115.44 - 38]\n",
    "NPV =  FCFs[0] / (1 + risk_free_ROI) + CFs[1] / ((1 + risk_free_ROI) ** 2) + CFs[2] / ((1 + risk_free_ROI) ** 3) - 100\n",
    "print(f'NPV = {NPV}')\n",
    "IRR = IRR_Step(0.5, 0.01, thresh=0.00001)\n",
    "print(f'IRR = {IRR:.5f}')"
   ]
  },
  {
   "cell_type": "markdown",
   "metadata": {},
   "source": [
    "### f) Use the discount dividend method and find the current value of company DEF stock under both economic conditions. [3 marks]"
   ]
  },
  {
   "cell_type": "code",
   "execution_count": 10,
   "metadata": {},
   "outputs": [
    {
     "name": "stdout",
     "output_type": "stream",
     "text": [
      "Present Value under economic fall = 17.474\n",
      "Present Value under economic boom = 32.905\n"
     ]
    }
   ],
   "source": [
    "#Under constant growth - k=7.35%, g=3.5%\n",
    "P0_D1_035 = 0.65 * 1.035 / (0.0735 - 0.035)\n",
    "print(f'Present Value under economic fall = {P0_D1_035:.3f}')\n",
    "#Under boom\n",
    "P0_D1_12 = 0.65 * 1.12 / (0.0735 - 0.12) \n",
    "P0_D5_12 = 0.65 * (1.12 ** 4) / (0.0735 - 0.12)\n",
    "P0_D5_035 = 0.65 * (1.12 ** 4) / (0.0735 - 0.035)\n",
    "\n",
    "P0 = P0_D1_12 - P0_D5_12 + P0_D5_035\n",
    "print(f'Present Value under economic boom = {P0:.3f}')"
   ]
  },
  {
   "cell_type": "markdown",
   "metadata": {},
   "source": [
    "### g) Calculate GHI company’s sustainable growth rate, find the value of the company’s stock at the beginning of 2022 and determine the company’s present value of growth opportunities. [2 marks]"
   ]
  },
  {
   "cell_type": "code",
   "execution_count": 11,
   "metadata": {},
   "outputs": [
    {
     "name": "stdout",
     "output_type": "stream",
     "text": [
      "Sustainable Growth Rate = 0.084\n",
      "Stock Value (2022) = 33.35\n",
      "PVGO = 15.172\n"
     ]
    }
   ],
   "source": [
    "ERR = 0.6\n",
    "EPS = 2\n",
    "Payout_ratio = 0.4 # = dividends / eps\n",
    "ROE = 0.14\n",
    "g_sus = ERR * ROE\n",
    "dividends = Payout_ratio * EPS\n",
    "P = dividends * (1 + g_sus) / (0.11 - g_sus)\n",
    "PVGO = P - (EPS / 0.11) #P0 - E1/r\n",
    "\n",
    "print(f'Sustainable Growth Rate = {g_sus:.3f}', f'Stock Value (2022) = {P:.2f}', f'PVGO = {PVGO:.3f}', sep='\\n')"
   ]
  }
 ],
 "metadata": {
  "kernelspec": {
   "display_name": "Python 3",
   "language": "python",
   "name": "python3"
  },
  "language_info": {
   "codemirror_mode": {
    "name": "ipython",
    "version": 3
   },
   "file_extension": ".py",
   "mimetype": "text/x-python",
   "name": "python",
   "nbconvert_exporter": "python",
   "pygments_lexer": "ipython3",
   "version": "3.8.5"
  }
 },
 "nbformat": 4,
 "nbformat_minor": 4
}

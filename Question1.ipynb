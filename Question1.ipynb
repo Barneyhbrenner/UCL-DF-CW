{
 "cells": [
  {
   "cell_type": "code",
   "execution_count": 1,
   "metadata": {},
   "outputs": [],
   "source": [
    "import numpy as np\n",
    "import numpy_financial as npf"
   ]
  },
  {
   "cell_type": "markdown",
   "metadata": {},
   "source": [
    "# Question 1 [16 marks]\n",
    "\n",
    "Key figures"
   ]
  },
  {
   "cell_type": "code",
   "execution_count": 2,
   "metadata": {},
   "outputs": [],
   "source": [
    "equity_risk_prem = 0.0482\n",
    "risk_free_ROI = 0.0425\n",
    "market_debt_val = 900e6\n",
    "market_equity_val = 2.4e9\n",
    "equity_b = 1.3\n",
    "pre_tax_debt_cost = 0.0925\n",
    "corp_tax = 0.375\n",
    "debt_investment = 80e6\n",
    "equity_investment = 20e6"
   ]
  },
  {
   "cell_type": "markdown",
   "metadata": {},
   "source": [
    "### a) Calculate the weighted average cost of capital of ABC prior to its new project investment. [3 marks] "
   ]
  },
  {
   "cell_type": "markdown",
   "metadata": {},
   "source": [
    "The WACC is calculated using the following formula:\n",
    "\n",
    "\\begin{equation}\n",
    "\\text{WACC} = \\frac{\\text{expected operating income}}{\\text{market value of all securities}}\n",
    "\\end{equation}"
   ]
  },
  {
   "cell_type": "markdown",
   "metadata": {},
   "source": [
    "Where the operating income is the sum of all operating incomes of ABC company and the market value of all securities is the total of the market value of all securities."
   ]
  },
  {
   "cell_type": "code",
   "execution_count": 3,
   "metadata": {},
   "outputs": [
    {
     "name": "stdout",
     "output_type": "stream",
     "text": [
      "Weighted Average Cost of Capital = 0.0603\n"
     ]
    }
   ],
   "source": [
    "WACC = (market_debt_val * pre_tax_debt_cost + market_equity_val * equity_risk_prem) / (market_debt_val + market_equity_val)\n",
    "print(f'Weighted Average Cost of Capital = {WACC:.4f}')"
   ]
  },
  {
   "cell_type": "markdown",
   "metadata": {},
   "source": [
    "### b) Find ABC’s asset beta prior to the new project. [2 marks]"
   ]
  },
  {
   "cell_type": "markdown",
   "metadata": {},
   "source": [
    "We use the formula:\n",
    "$$\n",
    "\\beta_A = \\frac{(\\beta_D.D + \\beta_E.E)}{V}\n",
    "$$\n",
    "\n",
    "where $V = D+E$ is the total value of the securities of the firm\n",
    "\n",
    "$D$ is the debt portion of the firm, and $E$ is the equity portion. Where we also have that $\\beta_D$ is the debt $\\beta$, and $\\beta_E$ is the equity $\\beta$\n"
   ]
  },
  {
   "cell_type": "code",
   "execution_count": 4,
   "metadata": {},
   "outputs": [
    {
     "name": "stdout",
     "output_type": "stream",
     "text": [
      "Asset Beta = 0.9455\n"
     ]
    }
   ],
   "source": [
    "beta_A = equity_b * market_equity_val / (market_debt_val + market_equity_val)\n",
    "print(f'Asset Beta = {beta_A:.4f}')"
   ]
  },
  {
   "cell_type": "markdown",
   "metadata": {},
   "source": [
    "### c) If the new project has the same asset beta as the ABC company in b), find the project equity beta. [2 marks]"
   ]
  },
  {
   "cell_type": "code",
   "execution_count": 5,
   "metadata": {},
   "outputs": [
    {
     "name": "stdout",
     "output_type": "stream",
     "text": [
      "Project equity beta = 1.2180\n"
     ]
    }
   ],
   "source": [
    "D = market_debt_val + debt_investment\n",
    "E = market_equity_val + equity_investment\n",
    "beta_E_proj = beta_A * (1 + D / (E + D))\n",
    "print(f'Project equity beta = {beta_E_proj:.4f}')"
   ]
  },
  {
   "cell_type": "markdown",
   "metadata": {},
   "source": [
    "### d) Use python functions to automatically calculate project FCFs and prove that the aftertax free cash flow generated for the next three years are \\\\$ 48 million, \\\\$ 52 million, and \\\\$ 54.4 million, respectively. [2 marks]\n",
    "\n",
    "#### FCF = (Revenues – Operating Costs – Depreciation) * (1 – Tax Rate) + Depreciation\n"
   ]
  },
  {
   "cell_type": "code",
   "execution_count": 6,
   "metadata": {},
   "outputs": [],
   "source": [
    "def FCF(rev, op, dep, tax):\n",
    "    return (rev - op - dep) * (1 - tax) + dep"
   ]
  },
  {
   "cell_type": "code",
   "execution_count": 7,
   "metadata": {},
   "outputs": [
    {
     "name": "stdout",
     "output_type": "stream",
     "text": [
      "FCF for year 1 = $48.0 million\n",
      "FCF for year 2 = $52.0 million\n",
      "FCF for year 3 = $54.4 million\n"
     ]
    }
   ],
   "source": [
    "rev = [99.2, 109.6, 115.44]\n",
    "ops = [32, 36, 38]\n",
    "deps = [16, 16, 16]\n",
    "FCFs = []\n",
    "\n",
    "for t, (r, o, d) in enumerate(zip(rev, ops, deps)):\n",
    "    FCFs.append(FCF(r, o, d, corp_tax))\n",
    "    print(f'FCF for year {t + 1} = ${FCF(r, o, d, corp_tax):.1f} million')"
   ]
  },
  {
   "cell_type": "markdown",
   "metadata": {},
   "source": [
    "### e) Find the project NPV and IRR with the next three years after-tax free cash flow given in. [2 marks]"
   ]
  },
  {
   "cell_type": "markdown",
   "metadata": {},
   "source": [
    "To find the IRR we create the following function.\n",
    "Brief description here please."
   ]
  },
  {
   "cell_type": "code",
   "execution_count": 8,
   "metadata": {},
   "outputs": [],
   "source": [
    "def IRR_Step(start, step, thresh=0.0001):\n",
    "    r = start\n",
    "    npv = lambda x: FCFs[0] / (1 + x) + CFs[1] / ((1 + x) ** 2) + CFs[2] / ((1 + x) ** 3) - 100\n",
    "    guess = npv(r)\n",
    "    while abs(guess) > thresh:\n",
    "        if guess > 0:\n",
    "            r += step\n",
    "            new_guess = npv(r)\n",
    "            if new_guess < 0:\n",
    "                step /= 2\n",
    "                r -= step\n",
    "                guess = npv(r)\n",
    "            else:\n",
    "                guess = new_guess\n",
    "        if guess < 0:\n",
    "            r -= step\n",
    "            new_guess = npv(r)\n",
    "            if new_guess > 0:\n",
    "                step /= 2\n",
    "                r += step\n",
    "                guess = npv(r)\n",
    "            else:\n",
    "                guess = new_guess\n",
    "\n",
    "    return r"
   ]
  },
  {
   "cell_type": "code",
   "execution_count": 24,
   "metadata": {},
   "outputs": [
    {
     "name": "stdout",
     "output_type": "stream",
     "text": [
      "NPV = 41.90409210164432\n",
      "IRR = 0.24691\n"
     ]
    }
   ],
   "source": [
    "# calculated using our own funcitons\n",
    "\n",
    "CFs = [48,52,54.4]\n",
    "NPV =  FCFs[0] / (1 + risk_free_ROI) + CFs[1] / ((1 + risk_free_ROI) ** 2) + CFs[2] / ((1 + risk_free_ROI) ** 3) - 100\n",
    "print(f'NPV = {NPV}')\n",
    "IRR = IRR_Step(0.5, 0.01, thresh=0.00001)\n",
    "print(f'IRR = {IRR:.5f}')"
   ]
  },
  {
   "cell_type": "code",
   "execution_count": 25,
   "metadata": {},
   "outputs": [
    {
     "name": "stdout",
     "output_type": "stream",
     "text": [
      "NPV = 41.904092101644316\n",
      "IRR = 0.24691\n"
     ]
    }
   ],
   "source": [
    "# calculated using npf\n",
    "\n",
    "CFs = [-100,48,52,54.4]\n",
    "\n",
    "NPV = npf.npv(risk_free_ROI,CFs)\n",
    "print(f'NPV = {NPV}')\n",
    "\n",
    "IRR = npf.irr(CF)\n",
    "print(f'IRR = {IRR:.5f}')"
   ]
  },
  {
   "cell_type": "markdown",
   "metadata": {},
   "source": [
    "### f) Use the discount dividend method and find the current value of company DEF stock under both economic conditions. [3 marks]"
   ]
  },
  {
   "cell_type": "markdown",
   "metadata": {},
   "source": [
    "We use the formula:\n",
    "\n",
    "$\\begin{aligned} P_{0} &=\\sum_{t=1}^{H} \\frac{D_{t}}{(1+r)^{t}}+\\frac{P_{H}}{(1+r)^{H}} \\\\ &=\\sum_{t=1}^{\\infty} \\frac{D_{t}}{(1+r)^{t}} \\end{aligned}$\n",
    "\n",
    "where $P_i$ is the price after $i$ time periods, $H$ is the horizon, $D_t$ is the dividend at the end of time period $t$, and $r$ is the cost of equity capital"
   ]
  },
  {
   "cell_type": "code",
   "execution_count": 26,
   "metadata": {},
   "outputs": [
    {
     "name": "stdout",
     "output_type": "stream",
     "text": [
      "Present Value under economic fall = 17.474\n",
      "Present Value under economic boom = 32.905\n"
     ]
    }
   ],
   "source": [
    "#Under constant growth - k=7.35%, g=3.5%\n",
    "P0_D1_035 = 0.65 * 1.035 / (0.0735 - 0.035)\n",
    "print(f'Present Value under economic fall = {P0_D1_035:.3f}')\n",
    "\n",
    "#Under boom\n",
    "P0_D1_12 = 0.65 * 1.12 / (0.0735 - 0.12) \n",
    "P0_D5_12 = 0.65 * (1.12 ** 4) / (0.0735 - 0.12)\n",
    "P0_D5_035 = 0.65 * (1.12 ** 4) / (0.0735 - 0.035)\n",
    "\n",
    "P0 = P0_D1_12 - P0_D5_12 + P0_D5_035\n",
    "print(f'Present Value under economic boom = {P0:.3f}')"
   ]
  },
  {
   "cell_type": "markdown",
   "metadata": {},
   "source": [
    "### g) Calculate GHI company’s sustainable growth rate, find the value of the company’s stock at the beginning of 2022 and determine the company’s present value of growth opportunities. [2 marks]"
   ]
  },
  {
   "cell_type": "markdown",
   "metadata": {},
   "source": [
    "The sustainable growth rate, $g$, is calculated using:\n",
    "$$\n",
    "g = b \\times \\text{ROE}\n",
    "$$\n",
    "where $b$ is the plowback ratio and is also known as the Earnings Retention Ratio, and $\\text{ROE}$ is the Return on Equity.\n",
    "\n",
    "The current price of the stuck is calculated with:\n",
    "$$\n",
    "P_0 = \\frac{D_0(1+g)}{r-g}\n",
    "$$\n",
    "where $r$ is the market capitalisation rate, $D_0$ is the current dividend, and $g$ is the sustainable growth rate we just found.\n",
    "\n",
    "We then calculate the company's present value of growth using:\n",
    "$$\n",
    "\\text{PVGO}= P_0 - \\frac{E_1}{r}\n",
    "$$\n",
    "where $E_1$ = the earnings per share (EPS) during time period 1, $P_0$ is the current price, and $r$ is the market capitalisation rate."
   ]
  },
  {
   "cell_type": "code",
   "execution_count": 11,
   "metadata": {},
   "outputs": [
    {
     "name": "stdout",
     "output_type": "stream",
     "text": [
      "Sustainable Growth Rate = 0.084\n",
      "Stock Value (2022) = 33.35\n",
      "PVGO = 15.172\n"
     ]
    }
   ],
   "source": [
    "ERR = 0.6\n",
    "EPS = 2\n",
    "Payout_ratio = 0.4 # = dividends / eps\n",
    "ROE = 0.14\n",
    "g_sus = ERR * ROE\n",
    "dividends = Payout_ratio * EPS\n",
    "P = dividends * (1 + g_sus) / (0.11 - g_sus)\n",
    "PVGO = P - (EPS / 0.11) #P0 - E1/r\n",
    "\n",
    "print(f'Sustainable Growth Rate = {g_sus:.3f}', f'Stock Value (2022) = {P:.2f}', f'PVGO = {PVGO:.3f}', sep='\\n')"
   ]
  },
  {
   "cell_type": "code",
   "execution_count": 4,
   "metadata": {},
   "outputs": [
    {
     "name": "stdout",
     "output_type": "stream",
     "text": [
      "[main 3a1c2aa] updates\n",
      " 3 files changed, 421 insertions(+), 73 deletions(-)\n"
     ]
    },
    {
     "name": "stderr",
     "output_type": "stream",
     "text": [
      "warning: LF will be replaced by CRLF in Question1.ipynb.\n",
      "The file will have its original line endings in your working directory\n",
      "warning: LF will be replaced by CRLF in Question2.ipynb.\n",
      "The file will have its original line endings in your working directory\n",
      "warning: LF will be replaced by CRLF in Question3.ipynb.\n",
      "The file will have its original line endings in your working directory\n",
      "warning: LF will be replaced by CRLF in Question1.ipynb.\n",
      "The file will have its original line endings in your working directory\n",
      "warning: LF will be replaced by CRLF in Question2.ipynb.\n",
      "The file will have its original line endings in your working directory\n",
      "warning: LF will be replaced by CRLF in Question3.ipynb.\n",
      "The file will have its original line endings in your working directory\n"
     ]
    }
   ],
   "source": [
    "! git push"
   ]
  }
 ],
 "metadata": {
  "kernelspec": {
   "display_name": "Python 3",
   "language": "python",
   "name": "python3"
  },
  "language_info": {
   "codemirror_mode": {
    "name": "ipython",
    "version": 3
   },
   "file_extension": ".py",
   "mimetype": "text/x-python",
   "name": "python",
   "nbconvert_exporter": "python",
   "pygments_lexer": "ipython3",
   "version": "3.8.5"
  }
 },
 "nbformat": 4,
 "nbformat_minor": 4
}

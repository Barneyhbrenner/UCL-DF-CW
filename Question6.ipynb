{
 "cells": [
  {
   "cell_type": "markdown",
   "id": "d7dadc9c-824f-4ebe-9b9c-4833b8fe28a8",
   "metadata": {},
   "source": [
    "# Question 6\n",
    "You are a new analyst at a traditional brokerage and wealth management business.\n",
    "The business is traditional and focuses on stocks, bonds, derivatives and options for\n",
    "their customers and advisory. Your CEO asks you to think about ways in which your\n",
    "traditional firm could embrace new emerging technologies and business models in the\n",
    "future in a gradual way. Your CEO asks you to come back with answers to the following\n",
    "points, answering each question sub-part with no more than 400 words:\n",
    "\n",
    "a) Describe what emerging technologies could be utilised and how they could be\n",
    "applied in the business infrastructure. [6 marks]\n",
    "\n",
    "b) What type of new business models could you also look to if you were thinking of\n",
    "reinventing your business scope and why? [9 marks]\n",
    "\n",
    "c) What new emerging financial products would be most suitable to add to\n",
    "complement the existing products of the business and why? [8 marks]"
   ]
  },
  {
   "cell_type": "markdown",
   "id": "7692a0f3-7af8-4d86-aeb7-68a8f3f4ba9e",
   "metadata": {},
   "source": [
    "## Part A\n",
    "\n",
    "Emerging technologies:\n",
    "- AI/ML\n",
    "    - Credit Scoring / Direct Lending: Companies in this category use AI for robust credit scoring and lending applications. Notable companies include Affirm and ZestFinance.\n",
    "    - Assistants / Personal Finance: Companies in this category rely on an AI chat bot and mobile app assistant applications to monitor personal finances. Notable companies include Digit and Kasisto.\n",
    "    - Quantitative & Asset Management: Companies in this category employ AI algorithmic trading and investment strategies or tools. Notable companies include Sentient Technologies and Numerai.\n",
    "    - Insurance: Companies in this category use AI to quote and insure. Notable companies include Lemonade and Cape Analytics.\n",
    "    - Market Research / Sentiment Analysis: Companies in this category use AI to efficiently research and measure sentiment. Notable companies include Dataminr and Alphasense.\n",
    "    - Debt Collection: Companies in this category use AI to improve creditor collection of outstanding debt through personalised and automated communication. TrueAccord and CollectAI are included in this list.\n",
    "    - Business Finance & Expense Reporting: Companies in this category use AI to improve basic business accounting, including expense reporting. Notable companies include AppZen and Zeitgold.\n",
    "    - General Purpose / Predictive Analytics: Companies in this category use AI for general purpose semantic and natural language applications as well as broadly applied predictive analytics. Notable companies include Opera Solutions and Kensho Technologies.\n",
    "    - Regulatory, Compliance, & Fraud Detection: Companies in this category use AI to detect fraudulent and abnormal financial behaviour, and/or use AI to improve general regulatory compliance matters and workflows. Notable companies include Trifacta and Digital Reasoning Systems.\n",
    "    - Algo Trading:  Algorithmic trading, also known as automated trading, refers to the use of an algorithm or specific set of instructions that guides the trading of assets to control execution costs, reduce market risks, and generate profits.  \n",
    "        - Removes the human in the loop with respect to active management \n",
    "        - The speed of this algorithmic trading is incomparable to the speed of human trading and has therefore gained popularity in the stock exchange markets. \n",
    "        - The benefits of algorithmic trading include: \n",
    "        - The ability for trades to be executed at the best possible prices; \n",
    "        - Increased accuracy and reduced chance of mistakes; \n",
    "        - The ability to automatically and simultaneously check multiple market conditions; Reduction in the impact of human errors or biases caused by emotional and psychological conditions\n",
    "\n",
    "\n",
    "\n",
    "- Blockchain / DLT\n",
    "- IoT\n",
    "- Cloud\n",
    "    - The development of cloud computing has enabled many other technologies, including AI and data analytics, as these technologies rely on the ability to process large amounts of data, and the cloud provides a space to store these large quantities of data and information. Many mobile applications rely on the cloud for intelligence, information, and connectivity (Garnellini & Okeleke, 2017). There are several benefits of cloud computing on the banking industry, including:\n",
    "        - cost reduction\n",
    "        - greater flexibility\n",
    "        - scalability\n",
    "        - agility and efficiency\n",
    "        - improved consumer services\n",
    "        - continuity\n",
    "\n"
   ]
  },
  {
   "cell_type": "markdown",
   "id": "623f7e05-42df-4d1e-8d40-7926d25a2a2b",
   "metadata": {},
   "source": [
    "## Part B\n",
    "https://www.feedough.com/what-is-a-business-model/"
   ]
  },
  {
   "cell_type": "markdown",
   "id": "f76b654d-f520-4567-8e56-faefa9ac593a",
   "metadata": {},
   "source": [
    "## Part C\n",
    "Suitable Emerging technologies:\n",
    "- Robo advisors\n",
    "     - Chatbots:\n",
    "    Bots are software applications designed and created to automate certain tasks – not just in the arena of communications (could also be for scrapping or monitoring for instance)\n",
    "    Chatbots are increasingly being used in the areas of marketing and customer service. Have you ever been on an e-commerce website and had a chat screen pop up on your screen asking whether there’s anything you require help with?\n",
    "    AI-powered chatbots are one of the trends that is likely to impact how financial services are delivered in the future.\n",
    "    NLP techniques are primarily used for chatbots\n",
    "\n",
    "- AI/ML\n",
    "- New KYC tech\n",
    "- New Money Laundering tech"
   ]
  },
  {
   "cell_type": "code",
   "execution_count": null,
   "id": "dce2197f-759d-43ea-8185-f67f6e02aef1",
   "metadata": {},
   "outputs": [],
   "source": []
  }
 ],
 "metadata": {
  "kernelspec": {
   "display_name": "Python 3",
   "language": "python",
   "name": "python3"
  },
  "language_info": {
   "codemirror_mode": {
    "name": "ipython",
    "version": 3
   },
   "file_extension": ".py",
   "mimetype": "text/x-python",
   "name": "python",
   "nbconvert_exporter": "python",
   "pygments_lexer": "ipython3",
   "version": "3.7.1"
  }
 },
 "nbformat": 4,
 "nbformat_minor": 5
}

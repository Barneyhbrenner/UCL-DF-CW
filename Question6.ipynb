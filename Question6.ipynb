{
 "cells": [
  {
   "cell_type": "markdown",
   "id": "d7dadc9c-824f-4ebe-9b9c-4833b8fe28a8",
   "metadata": {},
   "source": [
    "# Question 6\n",
    "You are a new analyst at a traditional brokerage and wealth management business.\n",
    "The business is traditional and focuses on stocks, bonds, derivatives and options for\n",
    "their customers and advisory. Your CEO asks you to think about ways in which your\n",
    "traditional firm could embrace new emerging technologies and business models in the\n",
    "future in a gradual way. Your CEO asks you to come back with answers to the following\n",
    "points, answering each question sub-part with no more than 400 words:\n",
    "\n",
    "a) Describe what emerging technologies could be utilised and how they could be\n",
    "applied in the business infrastructure. [6 marks]\n",
    "\n",
    "b) What type of new business models could you also look to if you were thinking of\n",
    "reinventing your business scope and why? [9 marks]\n",
    "\n",
    "c) What new emerging financial products would be most suitable to add to\n",
    "complement the existing products of the business and why? [8 marks]"
   ]
  },
  {
   "cell_type": "markdown",
   "id": "7692a0f3-7af8-4d86-aeb7-68a8f3f4ba9e",
   "metadata": {},
   "source": [
    "## Part A\n",
    "Part of new client onboarding for brokerages or wealth management firms is knowing your customer (KYC). KYC is a due diligence process and a preparatory step to prevent fraud and money laundering through the firm. This involves gathering a lot of information about the client to determine any risks such as identity threat or terrorism. Many emerging technologies can be utilised to speed up this time-consuming process. Machine learning (ML) and big data could work in tandem to speed up implementation, reduce error margin and improve efficiency leading to a smoother onboarding process. The old way would require booking an appointment with the firm which may take weeks to get and also may take time in verifying the clients’ proof documents. Credit agencies will also be involved for additional checks. A new method could involve third party KYC agency using ML algorithms to verify documents and the client matches their identity documents, with credit checks only being used if there is significant ambiguity. Examples of these KYC agencies include onfido and fenergo. These techniques can also be used for anti-money laundering (AML) measures. AML could involve using ML systems to detect any patterns suggesting suspicious activities including rapid increase in funds or large cash withdrawals. Companies that provide these solutions include ComplyAdvantage and Behavox. The brokerage may also involve algo trading, involving algorithms guiding the trading of assets such as controlling execution time. Algo trading is much faster than normal human trading, furthermore allows trades to be executed at the best possible price with increased accuracy and reduced error. Errors like human bias are no longer pertinent. Furthemore, it has the ability to automatically and simultaneously check multiple market conditions, Sentient Technologies and Numera. ML can also be used to gauge market sentiment, Dataminr and Alphasense. \n",
    "\n",
    "<h4 > NEED TO SAY WHAT THE COMPANIES DO\n",
    " </h4>\n",
    "\n",
    "Cybersecurity is ever more important due to the increase in power that malicious hackers have. New emergin technologies such as Botnet Force Shields from ReversingLabs or Deepfake Detection by Truepic can enhance the firm's level of cybersecurity. \n",
    "\n",
    "Blockchain is another emerging technology. The firm can use a blockchain-based infrastructure like a DEX to place trades on and need not be cryptocurrency. The aim is to reduce settlement time, complexity, operational and counterparty risk through automation and cost due to disintermediation. \n",
    "\n",
    "Cloud technologies are becoming ever more important. Traditionally, firms develop and maintain their servers on premises, requiring investment and specialist knowledge. Instead they can get this service through a cloud providor “as-a-service” and can have it working alongside their own cloud service, known as hybrid cloud. All technologies previously mentioned can be stacked on top of cloud, helping to facilititate the firm’s adoption of them. Cloud providers like AWS provide a wide range of services, making it easier for new companies to embrace emerging technologies [reword]. \n",
    "\n"
   ]
  },
  {
   "cell_type": "markdown",
   "id": "623f7e05-42df-4d1e-8d40-7926d25a2a2b",
   "metadata": {},
   "source": [
    "## Part B\n",
    "Currently, brokerages and wealth management firms are seen as high touch, meaning it involves a lot of human interaction between the client and the firm. These firms can transition to low touch, requiring a basic amount of human interaction, reducing the cost of staff. The cost can be used to improve customer-facing technology to reduce human interaction and overall improve client experience. Technologies like RoboAdvisors can assist clients with their investment needs without the need of a human presence from the firm.\n",
    "\n",
    "Brokerages can be both B2B and B2C, and wealth management is traditionally B2C but can also be B2B2C. For the brokerage, it can instead transition to a platform, becoming less directly involved with the interaction between the buyer and seller. The firm can instead maintain the platform for the two counterparties to transact. Wealth management can as well transition to a marketplace model, where they take a greater role in the interaction between the counterparties due to the nature of wealth management seen as a higher risk [reword]\n",
    "\n",
    "Furthermore, the business can reorganise as a Decentralised Autonomous Organisation (DAO), reyling on the Distributed Ledger Technology and Smart Contracts to enforce organisation rules.  The allows for the rules and financial transactions to be maintained on a blockchain, eliminating the need to involve a mutually acceptable trusted third party in any decentralized digital interaction [reword]\n",
    "\n"
   ]
  },
  {
   "cell_type": "markdown",
   "id": "f76b654d-f520-4567-8e56-faefa9ac593a",
   "metadata": {},
   "source": [
    "## Part C\n",
    "Blockchains"
   ]
  },
  {
   "cell_type": "code",
   "execution_count": null,
   "id": "dce2197f-759d-43ea-8185-f67f6e02aef1",
   "metadata": {},
   "outputs": [],
   "source": []
  }
 ],
 "metadata": {
  "kernelspec": {
   "display_name": "Python 3",
   "language": "python",
   "name": "python3"
  },
  "language_info": {
   "codemirror_mode": {
    "name": "ipython",
    "version": 3
   },
   "file_extension": ".py",
   "mimetype": "text/x-python",
   "name": "python",
   "nbconvert_exporter": "python",
   "pygments_lexer": "ipython3",
   "version": "3.7.1"
  }
 },
 "nbformat": 4,
 "nbformat_minor": 5
}

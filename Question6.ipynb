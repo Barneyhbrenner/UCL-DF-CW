{
 "cells": [
  {
   "cell_type": "markdown",
   "id": "d7dadc9c-824f-4ebe-9b9c-4833b8fe28a8",
   "metadata": {},
   "source": [
    "# Question 6\n",
    "You are a new analyst at a traditional brokerage and wealth management business.\n",
    "The business is traditional and focuses on stocks, bonds, derivatives and options for\n",
    "their customers and advisory. Your CEO asks you to think about ways in which your\n",
    "traditional firm could embrace new emerging technologies and business models in the\n",
    "future in a gradual way. Your CEO asks you to come back with answers to the following\n",
    "points, answering each question sub-part with no more than 400 words:\n",
    "\n",
    "a) Describe what emerging technologies could be utilised and how they could be\n",
    "applied in the business infrastructure. [6 marks]\n",
    "\n",
    "b) What type of new business models could you also look to if you were thinking of\n",
    "reinventing your business scope and why? [9 marks]\n",
    "\n",
    "c) What new emerging financial products would be most suitable to add to\n",
    "complement the existing products of the business and why? [8 marks]"
   ]
  },
  {
   "cell_type": "markdown",
   "id": "7692a0f3-7af8-4d86-aeb7-68a8f3f4ba9e",
   "metadata": {},
   "source": [
    "## Part A\n",
    "\n",
    "Emerging technologies:\n",
    "- AI/ML\n",
    "- Blockchain / DLT\n",
    "- IoT\n"
   ]
  },
  {
   "cell_type": "markdown",
   "id": "623f7e05-42df-4d1e-8d40-7926d25a2a2b",
   "metadata": {},
   "source": [
    "## Part B\n",
    "https://www.feedough.com/what-is-a-business-model/"
   ]
  },
  {
   "cell_type": "markdown",
   "id": "f76b654d-f520-4567-8e56-faefa9ac593a",
   "metadata": {},
   "source": [
    "## Part C\n",
    "Suitable Emerging technologies:\n",
    "- Robo advisors\n",
    "- AI/ML\n",
    "- New KYC tech\n",
    "- New Money Laundering tech"
   ]
  },
  {
   "cell_type": "code",
   "execution_count": null,
   "id": "dce2197f-759d-43ea-8185-f67f6e02aef1",
   "metadata": {},
   "outputs": [],
   "source": []
  }
 ],
 "metadata": {
  "kernelspec": {
   "display_name": "Python 3",
   "language": "python",
   "name": "python3"
  },
  "language_info": {
   "codemirror_mode": {
    "name": "ipython",
    "version": 3
   },
   "file_extension": ".py",
   "mimetype": "text/x-python",
   "name": "python",
   "nbconvert_exporter": "python",
   "pygments_lexer": "ipython3",
   "version": "3.7.1"
  }
 },
 "nbformat": 4,
 "nbformat_minor": 5
}
